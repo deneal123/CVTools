{
 "cells": [
  {
   "cell_type": "markdown",
   "id": "c8cff989-70c8-4e1d-98ce-26df656c5efc",
   "metadata": {},
   "source": [
    "# Задания для Семинара 1: Работа с изображениями\n",
    "\n",
    "<hr style=\"border: 1px solid rgba(50, 50, 255, 0.5); width: 100%;\">\n",
    "\n",
    "Выполнил:  \n",
    "**Вольхин Данил Федорович**\n",
    "\n",
    "Email:  \n",
    "[dfvolkhin@edu.hse.ru](mailto:dfvolkhin@edu.hse.ru)\n",
    "\n",
    "Дата:  \n",
    "**28 января 2025**\n",
    "\n",
    "<hr style=\"border: 1px solid rgba(50, 50, 255, 0.5); width: 100%;\">\n",
    "\n",
    "😊 Первый раз в жизни делаю посадку на юпитер 😊"
   ]
  },
  {
   "cell_type": "markdown",
   "id": "aefb50ea-918e-4167-8ba6-6d09f05415ed",
   "metadata": {},
   "source": [
    "## Теоретический блок: Библиотеки OpenCV и PIL (Pillow) в Python\n",
    "\n",
    "### 1. Введение в библиотеки OpenCV и PIL\n",
    "\n",
    "**OpenCV (Open Source Computer Vision Library):**\n",
    "OpenCV — это библиотека с открытым исходным кодом, предназначенная для обработки изображений и видео, анализа движения, распознавания лиц и выполнения других задач компьютерного зрения. Она поддерживает множество языков программирования, включая Python, и предоставляет обширный набор функций для работы с изображениями и видео.\n",
    "\n",
    "**PIL (Python Imaging Library) / Pillow:**\n",
    "PIL изначально была одной из основных библиотек для обработки изображений в Python. Однако она больше не поддерживается. Вместо нее активно используется Pillow — форк PIL, который поддерживается и обновляется сообществом. Pillow предоставляет удобные функции для открытия, обработки и сохранения различных форматов изображений.\n",
    "\n",
    "### 2. Основные возможности OpenCV и Pillow\n",
    "\n",
    "| **Функциональность**         | **OpenCV**                                                                                                                                          | **Pillow**                                                                                                                                          |\n",
    "|------------------------------|------------------------------------------------------------------------------------------------------------------------------------------------------|-----------------------------------------------------------------------------------------------------------------------------------------------------|\n",
    "| **Загрузка изображений**     | `cv2.imread()`                                                                                                                                       | `Image.open()`                                                                                                                                      |\n",
    "| **Отображение изображений**  | `cv2.imshow()`, `cv2.waitKey()`, `cv2.destroyAllWindows()`                                                                                        | `image.show()`                                                                                                                                      |\n",
    "| **Сохранение изображений**   | `cv2.imwrite()`                                                                                                                                       | `image.save()`                                                                                                                                      |\n",
    "| **Преобразование цветов**    | `cv2.cvtColor()`                                                                                                                                      | `image.convert()`                                                                                                                                   |\n",
    "| **Изменение размера**        | `cv2.resize()`                                                                                                                                         | `image.resize()`                                                                                                                                     |\n",
    "| **Обрезка (Cropping)**       | Использование срезов NumPy-массивов                                                                                                                  | Использование метода `image.crop()`                                                                                                                  |\n",
    "| **Поворот и трансформация**  | `cv2.rotate()`, `cv2.getRotationMatrix2D()`, `cv2.warpAffine()`                                                                                      | `image.rotate()`                                                                                                                                     |\n",
    "| **Фильтрация изображений**   | Различные фильтры, такие как `cv2.GaussianBlur()`, `cv2.medianBlur()`, `cv2.bilateralFilter()`                                                         | Встроенные методы и возможности расширения через Pillow-фильтры                                                                                        |\n",
    "| **Рисование на изображениях**| Функции рисования, такие как `cv2.line()`, `cv2.circle()`, `cv2.rectangle()`, `cv2.putText()`                                                           | Методы `ImageDraw` для рисования на изображениях                                                                                                     |\n",
    "| **Работа с видео**           | Чтение и запись видеофайлов, обработка кадров в реальном времени                                                                                     | Ограниченные возможности работы с видео (основной фокус на статических изображениях)                                                                 |\n",
    "| **Обнаружение объектов**     | Поддержка алгоритмов обнаружения и распознавания объектов, включая каскадные классификаторы, HOG, SIFT, SURF, ORB и др.                                | Отсутствует встроенная поддержка обнаружения объектов                                                                                                 |\n",
    "\n",
    "\n",
    "### Рекомендации и ресурсы\n",
    "\n",
    "- **Документация OpenCV:** [https://docs.opencv.org/](https://docs.opencv.org/)\n",
    "- **Документация Pillow:** [https://pillow.readthedocs.io/en/stable/](https://pillow.readthedocs.io/en/stable/)\n",
    "- **Учебники и примеры:**\n",
    "  - [OpenCV-Python Tutorials](https://docs.opencv.org/master/d6/d00/tutorial_py_root.html)\n",
    "  - [Pillow Tutorial](https://pillow.readthedocs.io/en/stable/handbook/tutorial.html)\n",
    "- **Книги:**\n",
    "  - \"Learning OpenCV 3\" — Adrian Kaehler, Gary Bradski\n",
    "  - \"Python Imaging Library Handbook\" — Fredrik Lundh"
   ]
  },
  {
   "cell_type": "markdown",
   "id": "832b41df-147d-4257-9559-b65b88452cec",
   "metadata": {},
   "source": [
    "## ANSI коды для цветов текста"
   ]
  },
  {
   "cell_type": "code",
   "execution_count": 1,
   "id": "5cc35e4c-c5b0-41ff-9868-f74d53e995a3",
   "metadata": {
    "ExecuteTime": {
     "end_time": "2024-12-22T23:23:02.099397Z",
     "start_time": "2024-12-22T23:23:02.084393Z"
    }
   },
   "outputs": [],
   "source": [
    "RED = \"\\033[31m\"\n",
    "GREEN = \"\\033[32m\"\n",
    "YELLOW = \"\\033[33m\"\n",
    "BLUE = \"\\033[34m\"\n",
    "RESET = \"\\033[0m\"  # сброс цветов до стандартных"
   ]
  },
  {
   "cell_type": "markdown",
   "id": "97409080-466d-452d-8015-487187c84783",
   "metadata": {},
   "source": [
    "## Шаблоны markdown"
   ]
  },
  {
   "cell_type": "markdown",
   "id": "e80353f2-0c9c-4d90-878b-d414f99ced8d",
   "metadata": {},
   "source": [
    "<span style=\"color: green;\"># Это комментарий в коде</span><br>\n",
    "<span style=\"color: blue;\">def</span> greet(name):<br>\n",
    "<span style=\"color: red;\">print</span>(f\"Hello, {name}!\")\n",
    "<hr style=\"border: 1px solid rgba(50, 50, 255, 0.5); width: 100%;\">\n",
    "<pre style=\"background-color: #F5F5F5; padding: 10px; border-radius: 5px; font-family: monospace;\">code</pre>"
   ]
  },
  {
   "cell_type": "markdown",
   "id": "aa50b6e9-6ce7-4486-af49-e54a4202c9b8",
   "metadata": {},
   "source": [
    "## Установка библиотек"
   ]
  },
  {
   "cell_type": "code",
   "execution_count": 2,
   "id": "ba72d3d8-cf4f-4816-872e-460ffd76b3ca",
   "metadata": {
    "ExecuteTime": {
     "end_time": "2024-12-22T23:23:11.043747Z",
     "start_time": "2024-12-22T23:23:11.028745Z"
    },
    "jupyter": {
     "source_hidden": true
    }
   },
   "outputs": [],
   "source": [
    "# !pip install torch==1.12.1+cu116 torchvision==0.13.1+cu116 --index-url https://download.pytorch.org/whl/cu116\n",
    "# !pip install tensorboard==2.10.1 tensorflow==2.10.0\n",
    "# !pip install pydantic==2.10.3\n",
    "# !pip install tqdm==4.66.2\n",
    "# !pip install scikit-learn==1.5.1\n",
    "# !pip install scipy==1.13.1\n",
    "# !pip install seaborn==0.13.2\n",
    "# !pip install rich==13.7.1\n",
    "# !pip install requests==2.32.3\n",
    "# !pip install pillow==10.4.0\n",
    "# !pip install pandas==2.2.2\n",
    "# !pip install matplotlib==3.9.2\n",
    "# !pip install duckdb==1.1.0\n",
    "# !pip install annotated-types==0.7.0"
   ]
  },
  {
   "cell_type": "markdown",
   "id": "54168b4f-a0f1-4e79-8a6c-0e220547565e",
   "metadata": {},
   "source": [
    "# Подготовка к написанию кода"
   ]
  },
  {
   "cell_type": "markdown",
   "id": "4b11fa46-4fa7-41b7-98d3-8d80e28700ec",
   "metadata": {},
   "source": [
    "## Импорт библиотек"
   ]
  },
  {
   "cell_type": "code",
   "execution_count": 3,
   "id": "f4d98e29-c84c-4b4a-8130-368a15a993e2",
   "metadata": {
    "ExecuteTime": {
     "end_time": "2024-12-22T23:24:36.637516Z",
     "start_time": "2024-12-22T23:24:36.625514Z"
    }
   },
   "outputs": [
    {
     "name": "stdout",
     "output_type": "stream",
     "text": [
      "\u001b[33m------------------------------------------------------------\u001b[0m\n",
      "Библиотеки: \n",
      "\n",
      "python: \u001b[34m3.9.16\u001b[0m \n",
      "matplotlib: \u001b[34m3.9.2\u001b[0m\n",
      "numpy: \u001b[34m1.26.4\u001b[0m\n",
      "pandas: \u001b[34m2.2.2\u001b[0m\n",
      "sklearn: \u001b[34m1.5.1\u001b[0m\n",
      "scipy: \u001b[34m1.13.1\u001b[0m\n",
      "pydantic: \u001b[34m2.10.3\u001b[0m\n",
      "fastapi: \u001b[34m0.115.7\u001b[0m\n"
     ]
    },
    {
     "name": "stderr",
     "output_type": "stream",
     "text": [
      "C:\\Users\\NightMare\\PycharmProjects\\CVtools\\venv\\lib\\site-packages\\tqdm\\auto.py:21: TqdmWarning: IProgress not found. Please update jupyter and ipywidgets. See https://ipywidgets.readthedocs.io/en/stable/user_install.html\n",
      "  from .autonotebook import tqdm as notebook_tqdm\n"
     ]
    },
    {
     "name": "stdout",
     "output_type": "stream",
     "text": [
      "torch: \u001b[34m1.12.1+cu116\u001b[0m\n",
      "torchvision: \u001b[34m0.13.1+cu116\u001b[0m\n",
      "requests: \u001b[34m2.32.3\u001b[0m\n",
      "Pillow: \u001b[34m10.4.0\u001b[0m\n",
      "OpenCV: \u001b[34m4.11.0\u001b[0m\n",
      "\u001b[33m------------------------------------------------------------\u001b[0m\n"
     ]
    }
   ],
   "source": [
    "print(f\"{YELLOW}\"+60*\"-\"+f\"{RESET}\")\n",
    "print(f\"Библиотеки: \\n\")\n",
    "\n",
    "# Дополнительные библиотеки\n",
    "import platform # Узнать версию пайтона ;)\n",
    "import os\n",
    "import logging\n",
    "import time\n",
    "import sys\n",
    "import random\n",
    "import re\n",
    "import shutil\n",
    "from tqdm import tqdm\n",
    "from functools import wraps\n",
    "from typing import Any, Tuple, Union, Optional, List, Type, Callable, Dict\n",
    "from collections import Counter\n",
    "import zipfile\n",
    "from dataclasses import dataclass\n",
    "import requests\n",
    "\n",
    "# Основные библиотеки\n",
    "import IPython.display as ipd # Добавляет виджеты для ячеек юпитера\n",
    "from IPython.display import HTML\n",
    "from IPython import get_ipython\n",
    "import ipykernel\n",
    "print(f\"python: {BLUE}{platform.python_version()}{RESET} \")\n",
    "import matplotlib # Для рисунков\n",
    "import matplotlib.pyplot as plt\n",
    "print(f\"matplotlib: {BLUE}{matplotlib.__version__}{RESET}\")\n",
    "import numpy as np # Для работы с массивами\n",
    "print(f\"numpy: {BLUE}{np.__version__}{RESET}\")\n",
    "import pandas as pd # Работа с таблицами\n",
    "print(f\"pandas: {BLUE}{pd.__version__}{RESET}\")\n",
    "import sklearn # Много полезного для ML\n",
    "from sklearn.metrics import precision_score, recall_score, f1_score, accuracy_score\n",
    "print(f\"sklearn: {BLUE}{sklearn.__version__}{RESET}\")\n",
    "import scipy\n",
    "print(f\"scipy: {BLUE}{scipy.__version__}{RESET}\")\n",
    "import pydantic # Для валидации данных\n",
    "from pydantic import (BaseModel, Field, StrictStr, condecimal, StrictInt, StrictBool,\n",
    "                      FilePath, DirectoryPath, ValidationError, root_validator, ConfigDict)\n",
    "print(f\"pydantic: {BLUE}{pydantic.__version__}{RESET}\")\n",
    "import fastapi\n",
    "from fastapi import HTTPException, status\n",
    "print(f\"fastapi: {BLUE}{fastapi.__version__}{RESET}\")\n",
    "import torch\n",
    "import torch.nn as nn\n",
    "import torch.optim as optim\n",
    "import torch.nn.functional as F\n",
    "from torch.optim.lr_scheduler import ReduceLROnPlateau\n",
    "from torch.utils.data import DataLoader, Subset, WeightedRandomSampler\n",
    "print(f\"torch: {BLUE}{torch.__version__}{RESET}\")\n",
    "import torchvision\n",
    "from torchvision import datasets\n",
    "import torchvision.transforms as transforms\n",
    "from torchvision.datasets import ImageFolder\n",
    "import torchvision.models as models\n",
    "print(f\"torchvision: {BLUE}{torchvision.__version__}{RESET}\")\n",
    "import requests\n",
    "print(f\"requests: {BLUE}{requests.__version__}{RESET}\")\n",
    "import PIL\n",
    "from PIL import Image, ImageEnhance\n",
    "print(f\"Pillow: {BLUE}{PIL.__version__}{RESET}\")\n",
    "import cv2\n",
    "print(f\"OpenCV: {BLUE}{cv2.__version__}{RESET}\")\n",
    "\n",
    "from rich.theme import Theme\n",
    "from rich.logging import RichHandler\n",
    "from rich.console import Console\n",
    "from rich.pretty import install as pretty_install\n",
    "from rich.traceback import install as traceback_install\n",
    "\n",
    "\n",
    "print(f\"{YELLOW}\"+60*\"-\"+f\"{RESET}\")"
   ]
  },
  {
   "cell_type": "markdown",
   "id": "5da3b5c2-50dd-447b-8c9e-6a5331827982",
   "metadata": {},
   "source": [
    "## Дополнительные настройки"
   ]
  },
  {
   "cell_type": "code",
   "execution_count": 4,
   "id": "66b4fe94-c8e3-427f-a42d-cd7b64c7cf70",
   "metadata": {
    "ExecuteTime": {
     "end_time": "2024-12-22T23:24:48.130971Z",
     "start_time": "2024-12-22T23:24:47.989617Z"
    }
   },
   "outputs": [],
   "source": [
    "import warnings\n",
    "warnings.filterwarnings(\"ignore\")\n",
    "import logging\n",
    "# Отключение логирования для cmdstanpy\n",
    "logging.getLogger('cmdstanpy').setLevel(logging.ERROR)\n",
    "# Полезна при разработке собственных библиотек, юпитер будет переимпортировать модули, если в них были изменения\n",
    "%load_ext autoreload\n",
    "%autoreload 1"
   ]
  },
  {
   "cell_type": "markdown",
   "id": "a84a4c3a-db1e-4222-83cd-d063ddc37a96",
   "metadata": {},
   "source": [
    "## Кастомный setup_logging"
   ]
  },
  {
   "cell_type": "code",
   "execution_count": 5,
   "id": "38918c51-292b-4a53-9316-f9edff37904e",
   "metadata": {
    "jupyter": {
     "source_hidden": true
    }
   },
   "outputs": [],
   "source": [
    "log = None\n",
    "\n",
    "def setup_logging(clean=False, debug=False):\n",
    "    global log\n",
    "\n",
    "    if log is not None:\n",
    "        return log\n",
    "\n",
    "    try:\n",
    "        if clean and os.path.isfile('setup.log'):\n",
    "            os.remove('setup.log')\n",
    "        time.sleep(0.1)  # prevent race condition\n",
    "    except:\n",
    "        pass\n",
    "\n",
    "    if sys.version_info >= (3, 9):\n",
    "        logging.basicConfig(level=logging.DEBUG, format='%(asctime)s | %(levelname)s | %(pathname)s | %(message)s',\n",
    "                            filename='setup.log', filemode='a', encoding='utf-8', force=True)\n",
    "    else:\n",
    "        logging.basicConfig(level=logging.DEBUG, format='%(asctime)s | %(levelname)s | %(pathname)s | %(message)s',\n",
    "                            filename='setup.log', filemode='a', force=True)\n",
    "\n",
    "    console = Console(log_time=True, log_time_format='%H:%M:%S-%f', theme=Theme({\n",
    "        \"traceback.border\": \"black\",\n",
    "        \"traceback.border.syntax_error\": \"black\",\n",
    "        \"inspect.value.border\": \"black\",\n",
    "    }))\n",
    "    pretty_install(console=console)\n",
    "    traceback_install(console=console, extra_lines=1, width=console.width, word_wrap=False, indent_guides=False,\n",
    "                      suppress=[])\n",
    "    rh = RichHandler(show_time=True, omit_repeated_times=False, show_level=True, show_path=False, markup=False,\n",
    "                     rich_tracebacks=True, log_time_format='%H:%M:%S-%f',\n",
    "                     level=logging.DEBUG if debug else logging.INFO, console=console)\n",
    "    rh.set_name(logging.DEBUG if debug else logging.INFO)\n",
    "    log = logging.getLogger(\"sd\")\n",
    "    log.addHandler(rh)\n",
    "\n",
    "    return log"
   ]
  },
  {
   "cell_type": "code",
   "execution_count": 6,
   "id": "2dbda21b-eb14-458c-a97e-26222b27a97b",
   "metadata": {},
   "outputs": [],
   "source": [
    "log = setup_logging()"
   ]
  },
  {
   "cell_type": "markdown",
   "id": "0078ec53-eec7-4b95-a8a5-dcf9997f9abd",
   "metadata": {},
   "source": [
    "## Валидация входящих данных для каждого класса"
   ]
  },
  {
   "cell_type": "markdown",
   "id": "82f81a9d-4507-460a-bab1-18e851dc4ba5",
   "metadata": {},
   "source": [
    "### validate_with_pydantic"
   ]
  },
  {
   "cell_type": "code",
   "execution_count": 7,
   "id": "754bec1d-8bd1-49e7-a3d5-53ca7c80869d",
   "metadata": {
    "jupyter": {
     "source_hidden": true
    }
   },
   "outputs": [],
   "source": [
    "def validate_with_pydantic(model_cls):\n",
    "    \"\"\"\n",
    "    Декоратор для валидации данных с использованием Pydantic-модели.\n",
    "    \"\"\"\n",
    "\n",
    "    def decorator(func):\n",
    "        @wraps(func)\n",
    "        def wrapper(*args, **kwargs):\n",
    "            # Проверяем данные в аргументах функции\n",
    "            try:\n",
    "                data = kwargs.get(\"entry\", args[0] if args else None)\n",
    "                if not data:\n",
    "                    raise HTTPException(status_code=status.HTTP_400_BAD_REQUEST,\n",
    "                                        detail=\"No data provided for validation.\")\n",
    "                # Валидация данных\n",
    "                if isinstance(data, BaseModel):\n",
    "                    data = data.dict(by_alias=True)\n",
    "                validated_data = model_cls(**data)\n",
    "                # Передаем валидированные данные дальше\n",
    "                kwargs[\"entry\"] = validated_data\n",
    "                return func(*args, **kwargs)\n",
    "            except ValidationError as ve:\n",
    "                log.exception(\"Validation failed\", exc_info=ve)\n",
    "                raise HTTPException(status_code=status.HTTP_400_BAD_REQUEST,\n",
    "                                    detail=\"Invalid data for Pydantic model.\") from ve\n",
    "\n",
    "        return wrapper\n",
    "\n",
    "    return decorator"
   ]
  },
  {
   "cell_type": "markdown",
   "id": "0b5ad050-66a0-4053-86e2-af888850de40",
   "metadata": {},
   "source": [
    "### auto_generate_docstring"
   ]
  },
  {
   "cell_type": "code",
   "execution_count": 8,
   "id": "73a2b707-2b37-4417-b26d-d81333bc1e6e",
   "metadata": {
    "jupyter": {
     "source_hidden": true
    }
   },
   "outputs": [],
   "source": [
    "def auto_generate_docstring(cls: Type[BaseModel]) -> Type[BaseModel]:\n",
    "    \"\"\"\n",
    "    Декоратор для автоматического добавления docstring в классы Pydantic.\n",
    "    \"\"\"\n",
    "\n",
    "    def generate_docstring(model: Type[BaseModel]) -> str:\n",
    "        \"\"\"\n",
    "        Генерация строки документации из описания полей модели Pydantic.\n",
    "        \"\"\"\n",
    "        docstring = []\n",
    "        for field_name, field_info in model.__fields__.items():\n",
    "            field_details = f\"Field '{field_name}':\\n\"\n",
    "            if field_info.description:  # Получение описания\n",
    "                field_details += f\"  Description: {field_info.description}\\n\"\n",
    "            if field_info.examples:  # Получение примеров\n",
    "                field_details += f\"  Examples: {field_info.examples}\\n\"\n",
    "            docstring.append(field_details)\n",
    "        return \"\\n\".join(docstring)\n",
    "\n",
    "    # Добавляем описание к существующему docstring\n",
    "    cls.__doc__ = (cls.__doc__ or \"\") + \"\\n\\n\" + generate_docstring(cls)\n",
    "    return cls"
   ]
  },
  {
   "cell_type": "markdown",
   "id": "c35d5b93-0e06-41ab-ad3b-f4d423ba2a51",
   "metadata": {},
   "source": [
    "# Задания для Семинара 1: Работа с изображениями\n",
    "\n",
    "**Цель:** Закрепить теоретические знания о библиотеках OpenCV и Pillow через практические задания, освоить базовые операции загрузки, отображения и сохранения изображений."
   ]
  },
  {
   "cell_type": "markdown",
   "id": "1a2099c3-f993-4812-8553-616af7bc7a2d",
   "metadata": {},
   "source": [
    "<hr style=\"border: 1px solid rgba(50, 50, 255, 0.5); width: 100%;\">\n",
    "\n",
    "## Задание 1: Загрузка и отображение изображений\n",
    "\n",
    "**Описание:**\n",
    "1. Скачайте изображение `example.jpg` и поместите его в папку проекта `cv_seminar1`.\n",
    "2. Напишите скрипт на Python для загрузки и отображения изображения с помощью OpenCV.\n",
    "3. Напишите аналогичный скрипт для загрузки и отображения изображения с помощью Pillow.\n",
    "4. Сравните отображение изображения в OpenCV и Pillow.\n",
    "\n",
    "<hr style=\"border: 1px solid rgba(50, 50, 255, 0.5); width: 100%;\">"
   ]
  },
  {
   "cell_type": "markdown",
   "id": "187f1b8e-aad4-41f1-b7fd-aea6f499e382",
   "metadata": {},
   "source": [
    "### Сохранение изображения в папку"
   ]
  },
  {
   "cell_type": "code",
   "execution_count": 9,
   "id": "0cf1aa0b-a085-411c-9d93-96d29483606f",
   "metadata": {
    "jupyter": {
     "source_hidden": true
    }
   },
   "outputs": [],
   "source": [
    "def download_image(url: str, folder_name: str, filename: str = \"image.jpg\"):\n",
    "    os.makedirs(folder_name, exist_ok=True)\n",
    "    response = requests.get(url, stream=True)\n",
    "    if response.status_code == 200:\n",
    "        image_path = os.path.join(folder_name, filename)\n",
    "        with open(image_path, 'wb') as file:\n",
    "            for chunk in response.iter_content(1024):\n",
    "                file.write(chunk)\n",
    "        log.info(f\"Изображение сохранено: {image_path}\")\n",
    "    else:\n",
    "        log.error(f\"Ошибка загрузки изображения, статус: {response.status_code}\")"
   ]
  },
  {
   "cell_type": "code",
   "execution_count": 10,
   "id": "21debbad-5000-4ce9-8729-b18ba4d8e8ef",
   "metadata": {},
   "outputs": [
    {
     "data": {
      "text/html": [
       "<pre style=\"white-space:pre;overflow-x:auto;line-height:normal;font-family:Menlo,'DejaVu Sans Mono',consolas,'Courier New',monospace\"><span style=\"color: #7fbfbf; text-decoration-color: #7fbfbf\">02:12:44-043397 </span><span style=\"color: #000080; text-decoration-color: #000080\">INFO    </span> Изображение сохранено: .<span style=\"color: #800080; text-decoration-color: #800080\">/</span><span style=\"color: #ff00ff; text-decoration-color: #ff00ff\">cv_seminar_1</span>\\example.jpg                                         \n",
       "</pre>\n"
      ],
      "text/plain": [
       "\u001b[2;36m02:12:44-043397\u001b[0m\u001b[2;36m \u001b[0m\u001b[34mINFO    \u001b[0m Изображение сохранено: .\u001b[35m/\u001b[0m\u001b[95mcv_seminar_1\u001b[0m\\example.jpg                                         \n"
      ]
     },
     "metadata": {},
     "output_type": "display_data"
    }
   ],
   "source": [
    "download_image(\"https://image.civitai.com/xG1nkqKTMzGDvpLrqFT7WA/2ac05362-b7b0-4d82-ae61-f827d47b6ae0/original=true,quality=90/54114847.jpeg\",\n",
    "               \"./cv_seminar_1\",\n",
    "               \"example.jpg\")"
   ]
  },
  {
   "cell_type": "markdown",
   "id": "dafe9767-0b51-4f7a-a0a9-0882da83d860",
   "metadata": {},
   "source": [
    "### Скрипт для загрузки и отображения с помощью OpenCV | PIL"
   ]
  },
  {
   "cell_type": "code",
   "execution_count": 11,
   "id": "d483cddd-5dfc-47a2-a924-3b54cb9858d1",
   "metadata": {
    "jupyter": {
     "source_hidden": true
    }
   },
   "outputs": [],
   "source": [
    "def imgop(path_to_img, lib: str = \"cv2\", show: bool = False, show_jupyter: bool = False, fixed_size: tuple = (300, 300), grayscale: bool = False):\n",
    "    liblist = [\"cv2\", \"PIL\"]\n",
    "    \n",
    "    assert lib in liblist, log.error(f\"Некорректное значение lib: {lib}. Доступные варианты: {liblist}\")\n",
    "    \n",
    "    if not os.path.exists(path_to_img):\n",
    "        log.error(\"Проверьте, что изображение существует\")\n",
    "        return None\n",
    "    \n",
    "    try:\n",
    "        if lib == \"cv2\":\n",
    "            flag = cv2.IMREAD_GRAYSCALE if grayscale else cv2.IMREAD_COLOR\n",
    "            img = cv2.imread(path_to_img, flag)\n",
    "            if img is None:\n",
    "                raise ValueError(\"Не удалось загрузить изображение с помощью OpenCV.\")\n",
    "            if show:\n",
    "                cv2.imshow(\"Image\", img)\n",
    "                cv2.waitKey(0)\n",
    "                cv2.destroyAllWindows()\n",
    "            if show_jupyter:\n",
    "                if grayscale:\n",
    "                    ipd.display(HTML(f'<img src=\"{path_to_img}\" width=\"{fixed_size[0]}\" height=\"{fixed_size[1]}\" style=\"filter: grayscale(100%);\">'))\n",
    "                else:\n",
    "                    ipd.display(HTML(f'<img src=\"{path_to_img}\" width=\"{fixed_size[0]}\" height=\"{fixed_size[1]}\">'))\n",
    "        elif lib == \"PIL\":\n",
    "            img = Image.open(path_to_img)\n",
    "            if grayscale:\n",
    "                img = img.convert(\"L\")\n",
    "            if show:\n",
    "                img.show()\n",
    "            if show_jupyter:\n",
    "                if grayscale:\n",
    "                    ipd.display(HTML(f'<img src=\"{path_to_img}\" width=\"{fixed_size[0]}\" height=\"{fixed_size[1]}\" style=\"filter: grayscale(100%);\">'))\n",
    "                else:\n",
    "                    ipd.display(HTML(f'<img src=\"{path_to_img}\" width=\"{fixed_size[0]}\" height=\"{fixed_size[1]}\">'))\n",
    "        return img\n",
    "    except Exception as ex:\n",
    "        log.exception(\"Ошибка при обработке изображения\", exc_info=ex)\n",
    "        return None"
   ]
  },
  {
   "cell_type": "code",
   "execution_count": 12,
   "id": "11328015-46a9-4919-a11b-a3ae2fc9a00c",
   "metadata": {},
   "outputs": [],
   "source": [
    "# OpenCV\n",
    "img = imgop(\"./cv_seminar_1/example.jpg\", lib=\"PIL\", show=True)"
   ]
  },
  {
   "cell_type": "code",
   "execution_count": 13,
   "id": "e6f74a99-ad6a-4cbd-8f4a-6b0b7e3e379f",
   "metadata": {},
   "outputs": [],
   "source": [
    "# PIL\n",
    "img = imgop(\"./cv_seminar_1/example.jpg\", lib=\"cv2\", show=True)"
   ]
  },
  {
   "cell_type": "code",
   "execution_count": 14,
   "id": "f4d9654e-fe7f-4d57-b314-e4cabde0974c",
   "metadata": {},
   "outputs": [
    {
     "data": {
      "text/html": [
       "<pre style=\"white-space:pre;overflow-x:auto;line-height:normal;font-family:Menlo,'DejaVu Sans Mono',consolas,'Courier New',monospace\"></pre>\n"
      ],
      "text/plain": []
     },
     "metadata": {},
     "output_type": "display_data"
    },
    {
     "data": {
      "text/html": [
       "<img src=\"./cv_seminar_1/example.jpg\" width=\"300\" height=\"300\">"
      ],
      "text/plain": [
       "\u001b[1m<\u001b[0m\u001b[1;95mIPython.core.display.HTML\u001b[0m\u001b[39m object\u001b[0m\u001b[1m>\u001b[0m"
      ]
     },
     "metadata": {},
     "output_type": "display_data"
    }
   ],
   "source": [
    "# HTML\n",
    "img = imgop(\"./cv_seminar_1/example.jpg\", lib=\"PIL\", show_jupyter=True)"
   ]
  },
  {
   "cell_type": "markdown",
   "id": "a6c532a4-033e-40f4-9b6f-f1340a6c2f83",
   "metadata": {},
   "source": [
    "<hr style=\"border: 1px solid rgba(50, 50, 255, 0.5); width: 100%;\">\n",
    "\n",
    "## Задание 2: Сохранение изображений в разных форматах\n",
    "\n",
    "**Описание:**\n",
    "1. Загрузите изображение `example.jpg` с помощью OpenCV и сохраните его в формате PNG.\n",
    "2. Загрузите изображение `example.jpg` с помощью Pillow и сохраните его в формате JPEG.\n",
    "3. Проверьте сохраненные файлы.\n",
    "\n",
    "<hr style=\"border: 1px solid rgba(50, 50, 255, 0.5); width: 100%;\">"
   ]
  },
  {
   "cell_type": "markdown",
   "id": "1522209a-82d2-40ab-9d7a-72146ef168c5",
   "metadata": {},
   "source": [
    "### Загрузка картинки"
   ]
  },
  {
   "cell_type": "code",
   "execution_count": 15,
   "id": "b91e2ce1-0e76-4812-aa31-7d80eaf6db15",
   "metadata": {},
   "outputs": [
    {
     "data": {
      "text/html": [
       "<pre style=\"white-space:pre;overflow-x:auto;line-height:normal;font-family:Menlo,'DejaVu Sans Mono',consolas,'Courier New',monospace\"><span style=\"color: #7fbfbf; text-decoration-color: #7fbfbf\">02:12:46-736777 </span><span style=\"color: #000080; text-decoration-color: #000080\">INFO    </span> Изображение сохранено: .<span style=\"color: #800080; text-decoration-color: #800080\">/</span><span style=\"color: #ff00ff; text-decoration-color: #ff00ff\">cv_seminar_1</span>\\example.jpg                                         \n",
       "</pre>\n"
      ],
      "text/plain": [
       "\u001b[2;36m02:12:46-736777\u001b[0m\u001b[2;36m \u001b[0m\u001b[34mINFO    \u001b[0m Изображение сохранено: .\u001b[35m/\u001b[0m\u001b[95mcv_seminar_1\u001b[0m\\example.jpg                                         \n"
      ]
     },
     "metadata": {},
     "output_type": "display_data"
    }
   ],
   "source": [
    "download_image(\"https://image.civitai.com/xG1nkqKTMzGDvpLrqFT7WA/0f14f62d-1a92-4bd9-b6e7-66e5c7e6e816/original=true,quality=90/54355311.jpeg\",\n",
    "               \"./cv_seminar_1\",\n",
    "               \"example.jpg\")"
   ]
  },
  {
   "cell_type": "markdown",
   "id": "b38a9ebd-29ed-42fc-b37d-98512f55a138",
   "metadata": {},
   "source": [
    "### Сохранение в формате PNG\n"
   ]
  },
  {
   "cell_type": "code",
   "execution_count": 16,
   "id": "48b298b7-2143-46d8-a7d4-08c317e83059",
   "metadata": {},
   "outputs": [],
   "source": [
    "# OpenCV\n",
    "img = imgop(\"./cv_seminar_1/example.jpg\", lib=\"cv2\")"
   ]
  },
  {
   "cell_type": "code",
   "execution_count": 17,
   "id": "665cbcdb-7f75-46b0-b3ae-2b5492593298",
   "metadata": {},
   "outputs": [],
   "source": [
    "# Конвертация из BGR в RGB\n",
    "img = cv2.cvtColor(img, cv2.COLOR_BGR2RGB)\n",
    "# Преобразование в формат PIL\n",
    "img = Image.fromarray(img)\n",
    "# Теперь можно сохранить\n",
    "img.save(\"./cv_seminar_1/example.png\")"
   ]
  },
  {
   "cell_type": "markdown",
   "id": "c985b060-fb4c-47dc-ad28-5fa82e4e9089",
   "metadata": {},
   "source": [
    "### Проверяем"
   ]
  },
  {
   "cell_type": "code",
   "execution_count": 18,
   "id": "6564b7d3-0195-4661-a81c-f338038dcd0c",
   "metadata": {},
   "outputs": [
    {
     "data": {
      "text/html": [
       "<pre style=\"white-space:pre;overflow-x:auto;line-height:normal;font-family:Menlo,'DejaVu Sans Mono',consolas,'Courier New',monospace\"></pre>\n"
      ],
      "text/plain": []
     },
     "metadata": {},
     "output_type": "display_data"
    },
    {
     "data": {
      "text/html": [
       "<img src=\"./cv_seminar_1/example.png\" width=\"300\" height=\"300\">"
      ],
      "text/plain": [
       "\u001b[1m<\u001b[0m\u001b[1;95mIPython.core.display.HTML\u001b[0m\u001b[39m object\u001b[0m\u001b[1m>\u001b[0m"
      ]
     },
     "metadata": {},
     "output_type": "display_data"
    }
   ],
   "source": [
    "# HTML\n",
    "img = imgop(\"./cv_seminar_1/example.png\", lib=\"cv2\", show_jupyter=True)"
   ]
  },
  {
   "cell_type": "markdown",
   "id": "0ba8dfd2-dbd0-4f05-b959-2b3b34dcb12e",
   "metadata": {},
   "source": [
    "### Сохранение в формат JPEG"
   ]
  },
  {
   "cell_type": "code",
   "execution_count": 19,
   "id": "319d290f-2240-4bf6-a1d9-5943044432ac",
   "metadata": {},
   "outputs": [],
   "source": [
    "# PIL\n",
    "img = imgop(\"./cv_seminar_1/example.jpg\", lib=\"PIL\")"
   ]
  },
  {
   "cell_type": "code",
   "execution_count": 20,
   "id": "3fea2863-4a8f-4034-b5c8-cf748b6ca2e9",
   "metadata": {},
   "outputs": [],
   "source": [
    "# Можно сохранить\n",
    "img.save(\"./cv_seminar_1/example.jpeg\", format=\"jpeg\")"
   ]
  },
  {
   "cell_type": "markdown",
   "id": "0699bc20-1471-4c4d-922a-51224050cb1f",
   "metadata": {},
   "source": [
    "### Проверяем"
   ]
  },
  {
   "cell_type": "code",
   "execution_count": 21,
   "id": "37a5ce84-bec8-4029-8c71-d5c13887d7ff",
   "metadata": {},
   "outputs": [
    {
     "data": {
      "text/html": [
       "<pre style=\"white-space:pre;overflow-x:auto;line-height:normal;font-family:Menlo,'DejaVu Sans Mono',consolas,'Courier New',monospace\"></pre>\n"
      ],
      "text/plain": []
     },
     "metadata": {},
     "output_type": "display_data"
    },
    {
     "data": {
      "text/html": [
       "<img src=\"./cv_seminar_1/example.jpeg\" width=\"300\" height=\"300\">"
      ],
      "text/plain": [
       "\u001b[1m<\u001b[0m\u001b[1;95mIPython.core.display.HTML\u001b[0m\u001b[39m object\u001b[0m\u001b[1m>\u001b[0m"
      ]
     },
     "metadata": {},
     "output_type": "display_data"
    }
   ],
   "source": [
    "# HTML\n",
    "img = imgop(\"./cv_seminar_1/example.jpeg\", lib=\"PIL\", show_jupyter=True)"
   ]
  },
  {
   "cell_type": "markdown",
   "id": "db3ea5ef-fb86-4035-a72f-8c137961e13c",
   "metadata": {},
   "source": [
    "<hr style=\"border: 1px solid rgba(50, 50, 255, 0.5); width: 100%;\">\n",
    "\n",
    "## Задание 3: Работа с каналами изображения\n",
    "\n",
    "**Описание:**\n",
    "1. Загрузите изображение `example.jpg` с помощью OpenCV и Pillow.\n",
    "2. Разделите изображение на отдельные цветовые каналы (R, G, B).\n",
    "3. Сохраните каждый канал как отдельное изображение.\n",
    "4. Объедините каналы обратно в одно изображение и сохраните результат.\n",
    "\n",
    "<hr style=\"border: 1px solid rgba(50, 50, 255, 0.5); width: 100%;\">"
   ]
  },
  {
   "cell_type": "markdown",
   "id": "ea1b3370-05c1-4d77-b218-e592701126f9",
   "metadata": {},
   "source": [
    "### Загрузка картинки"
   ]
  },
  {
   "cell_type": "code",
   "execution_count": 22,
   "id": "d64b3ed1-643f-467e-9008-abf91b780efc",
   "metadata": {},
   "outputs": [
    {
     "data": {
      "text/html": [
       "<pre style=\"white-space:pre;overflow-x:auto;line-height:normal;font-family:Menlo,'DejaVu Sans Mono',consolas,'Courier New',monospace\"><span style=\"color: #7fbfbf; text-decoration-color: #7fbfbf\">02:12:48-027020 </span><span style=\"color: #000080; text-decoration-color: #000080\">INFO    </span> Изображение сохранено: .<span style=\"color: #800080; text-decoration-color: #800080\">/</span><span style=\"color: #ff00ff; text-decoration-color: #ff00ff\">cv_seminar_1</span>\\example.jpg                                         \n",
       "</pre>\n"
      ],
      "text/plain": [
       "\u001b[2;36m02:12:48-027020\u001b[0m\u001b[2;36m \u001b[0m\u001b[34mINFO    \u001b[0m Изображение сохранено: .\u001b[35m/\u001b[0m\u001b[95mcv_seminar_1\u001b[0m\\example.jpg                                         \n"
      ]
     },
     "metadata": {},
     "output_type": "display_data"
    }
   ],
   "source": [
    "download_image(\"https://image.civitai.com/xG1nkqKTMzGDvpLrqFT7WA/34ca87ea-20d6-477b-b88e-2cf090a6603e/original=true,quality=90/53653614.jpeg\",\n",
    "               \"./cv_seminar_1\",\n",
    "               \"example.jpg\")"
   ]
  },
  {
   "cell_type": "code",
   "execution_count": 23,
   "id": "8dd3519f-2b7c-46d5-ac38-a1c9a4982481",
   "metadata": {},
   "outputs": [
    {
     "data": {
      "text/html": [
       "<pre style=\"white-space:pre;overflow-x:auto;line-height:normal;font-family:Menlo,'DejaVu Sans Mono',consolas,'Courier New',monospace\"></pre>\n"
      ],
      "text/plain": []
     },
     "metadata": {},
     "output_type": "display_data"
    },
    {
     "data": {
      "text/html": [
       "<img src=\"./cv_seminar_1/example.jpg\" width=\"300\" height=\"300\">"
      ],
      "text/plain": [
       "\u001b[1m<\u001b[0m\u001b[1;95mIPython.core.display.HTML\u001b[0m\u001b[39m object\u001b[0m\u001b[1m>\u001b[0m"
      ]
     },
     "metadata": {},
     "output_type": "display_data"
    }
   ],
   "source": [
    "# OpenCV\n",
    "img = imgop(\"./cv_seminar_1/example.jpg\", lib=\"cv2\", show_jupyter=True)"
   ]
  },
  {
   "cell_type": "markdown",
   "id": "61a5a1bb-e836-48f4-9a68-6d7464be56f1",
   "metadata": {},
   "source": [
    "### Функция для разделения изображения на три канала"
   ]
  },
  {
   "cell_type": "code",
   "execution_count": 24,
   "id": "8802afa7-9bfc-425b-9f42-5568a716fa98",
   "metadata": {
    "jupyter": {
     "source_hidden": true
    }
   },
   "outputs": [],
   "source": [
    "def splitchenal(\n",
    "    img: Union[np.ndarray, Image.Image],\n",
    "    lib: str = \"cv2\",\n",
    "    show_jupyter: bool = False,\n",
    "    save_path: str = \"./\",\n",
    "    color_space: str = \"RGB\",\n",
    "):\n",
    "\n",
    "    # Проверка корректности параметров\n",
    "    liblist = [\"cv2\", \"PIL\"]\n",
    "    assert lib in liblist, log.error(f\"Некорректное значение lib: {lib}. Доступные варианты: {liblist}\")\n",
    "    assert color_space in [\"RGB\", \"HSV\", \"LAB\", \"GRAY\"], log.error(\"Некорректное цветовое пространство. Доступные варианты: RGB, HSV, LAB, GRAY.\")\n",
    "\n",
    "    # Создание директории для сохранения, если она не существует\n",
    "    os.makedirs(save_path, exist_ok=True)\n",
    "\n",
    "    # Преобразование изображения в numpy.ndarray, если это PIL.Image\n",
    "    if lib == \"cv2\":\n",
    "        if isinstance(img, Image.Image):  # Если изображение в формате PIL\n",
    "            img = np.array(img)  # Преобразуем PIL.Image в numpy.ndarray\n",
    "            if img.ndim == 3 and img.shape[2] == 4:  # Если изображение RGBA\n",
    "                img = cv2.cvtColor(img, cv2.COLOR_RGBA2BGR)  # Преобразуем RGBA в BGR\n",
    "            elif img.ndim == 3 and img.shape[2] == 3:  # Если изображение RGB\n",
    "                img = cv2.cvtColor(img, cv2.COLOR_RGB2BGR)  # Преобразуем RGB в BGR\n",
    "        elif isinstance(img, np.ndarray):  # Если изображение уже в формате OpenCV\n",
    "            if img.ndim == 3 and img.shape[2] == 4:  # Если изображение BGRA\n",
    "                img = cv2.cvtColor(img, cv2.COLOR_BGRA2BGR)  # Преобразуем BGRA в BGR\n",
    "    elif lib == \"PIL\":\n",
    "        if isinstance(img, np.ndarray):  # Если изображение в формате OpenCV\n",
    "            if img.ndim == 3 and img.shape[2] == 3:  # Если изображение BGR\n",
    "                img = cv2.cvtColor(img, cv2.COLOR_BGR2RGB)  # Преобразуем BGR в RGB\n",
    "                img = Image.fromarray(img)  # Преобразуем numpy.ndarray в PIL.Image\n",
    "            elif img.ndim == 3 and img.shape[2] == 4:  # Если изображение BGRA\n",
    "                img = cv2.cvtColor(img, cv2.COLOR_BGRA2RGB)  # Преобразуем BGRA в RGB\n",
    "                img = Image.fromarray(img)  # Преобразуем numpy.ndarray в PIL.Image\n",
    "        elif isinstance(img, Image.Image):  # Если изображение уже в формате PIL\n",
    "            pass  # Оставляем как есть\n",
    "\n",
    "    # Преобразование изображения в нужное цветовое пространство\n",
    "    if lib == \"cv2\":\n",
    "        if color_space == \"HSV\":\n",
    "            img = cv2.cvtColor(img, cv2.COLOR_BGR2HSV)\n",
    "        elif color_space == \"LAB\":\n",
    "            img = cv2.cvtColor(img, cv2.COLOR_BGR2LAB)\n",
    "        elif color_space == \"GRAY\":\n",
    "            img = cv2.cvtColor(img, cv2.COLOR_BGR2GRAY)\n",
    "    elif lib == \"PIL\":\n",
    "        if color_space == \"HSV\":\n",
    "            img = img.convert(\"HSV\")\n",
    "        elif color_space == \"LAB\":\n",
    "            img = img.convert(\"LAB\")\n",
    "        elif color_space == \"GRAY\":\n",
    "            img = img.convert(\"L\")\n",
    "\n",
    "    # Разделение каналов\n",
    "    if color_space == \"GRAY\":\n",
    "        channels = {\"Gray\": img}\n",
    "    else:\n",
    "        if lib == \"cv2\":\n",
    "            channels_split = cv2.split(img)\n",
    "        elif lib == \"PIL\":\n",
    "            channels_split = img.split()\n",
    "        channel_names = {\n",
    "            \"RGB\": [\"Blue\", \"Green\", \"Red\"],\n",
    "            \"HSV\": [\"Hue\", \"Saturation\", \"Value\"],\n",
    "            \"LAB\": [\"Luminance\", \"A\", \"B\"],\n",
    "        }[color_space]\n",
    "        channels = {name: ch for name, ch in zip(channel_names, channels_split)}\n",
    "\n",
    "    # Сохранение и отображение каналов\n",
    "    for color, ch_img in channels.items():\n",
    "        if lib == \"cv2\":\n",
    "            if color_space == \"GRAY\":\n",
    "                path = os.path.join(save_path, f\"{color}_channel.jpg\")\n",
    "                cv2.imwrite(path, ch_img)\n",
    "            else:\n",
    "                zeros = np.zeros_like(ch_img)  # Черный канал\n",
    "                if color_space == \"RGB\":\n",
    "                    if color == \"Blue\":\n",
    "                        merged = cv2.merge([ch_img, zeros, zeros])\n",
    "                    elif color == \"Green\":\n",
    "                        merged = cv2.merge([zeros, ch_img, zeros])\n",
    "                    elif color == \"Red\":\n",
    "                        merged = cv2.merge([zeros, zeros, ch_img])\n",
    "                elif color_space == \"HSV\":\n",
    "                    if color == \"Hue\":\n",
    "                        merged = cv2.merge([ch_img, zeros, zeros])\n",
    "                    elif color == \"Saturation\":\n",
    "                        merged = cv2.merge([zeros, ch_img, zeros])\n",
    "                    elif color == \"Value\":\n",
    "                        merged = cv2.merge([zeros, zeros, ch_img])\n",
    "                elif color_space == \"LAB\":\n",
    "                    if color == \"Luminance\":\n",
    "                        merged = cv2.merge([ch_img, zeros, zeros])\n",
    "                    elif color == \"A\":\n",
    "                        merged = cv2.merge([zeros, ch_img, zeros])\n",
    "                    elif color == \"B\":\n",
    "                        merged = cv2.merge([zeros, zeros, ch_img])\n",
    "                path = os.path.join(save_path, f\"{color}_channel.jpg\")\n",
    "                cv2.imwrite(path, merged)\n",
    "        elif lib == \"PIL\":\n",
    "            if color_space == \"GRAY\":\n",
    "                path = os.path.join(save_path, f\"{color}_channel.jpg\")\n",
    "                ch_img.save(path)\n",
    "            else:\n",
    "                zeros = Image.new(\"L\", img.size, 0)\n",
    "                if color_space == \"RGB\":\n",
    "                    if color == \"Blue\":\n",
    "                        merged = Image.merge(\"RGB\", (ch_img, zeros, zeros))\n",
    "                    elif color == \"Green\":\n",
    "                        merged = Image.merge(\"RGB\", (zeros, ch_img, zeros))\n",
    "                    elif color == \"Red\":\n",
    "                        merged = Image.merge(\"RGB\", (zeros, zeros, ch_img))\n",
    "                elif color_space == \"HSV\":\n",
    "                    if color == \"Hue\":\n",
    "                        merged = Image.merge(\"HSV\", (ch_img, zeros, zeros))\n",
    "                    elif color == \"Saturation\":\n",
    "                        merged = Image.merge(\"HSV\", (zeros, ch_img, zeros))\n",
    "                    elif color == \"Value\":\n",
    "                        merged = Image.merge(\"HSV\", (zeros, zeros, ch_img))\n",
    "                elif color_space == \"LAB\":\n",
    "                    if color == \"Luminance\":\n",
    "                        merged = Image.merge(\"LAB\", (ch_img, zeros, zeros))\n",
    "                    elif color == \"A\":\n",
    "                        merged = Image.merge(\"LAB\", (zeros, ch_img, zeros))\n",
    "                    elif color == \"B\":\n",
    "                        merged = Image.merge(\"LAB\", (zeros, zeros, ch_img))\n",
    "                path = os.path.join(save_path, f\"{color}_channel.jpg\")\n",
    "                merged.save(path)\n",
    "\n",
    "        # Отображение в Jupyter Notebook\n",
    "        if show_jupyter:\n",
    "            ipd.display(ipd.HTML(f'<img src=\"{path}\" width=\"300\">'))\n",
    "\n",
    "    return channels"
   ]
  },
  {
   "cell_type": "code",
   "execution_count": 25,
   "id": "a8ba8cc0-3d03-43c6-a498-b35e59b1e833",
   "metadata": {},
   "outputs": [
    {
     "data": {
      "text/html": [
       "<pre style=\"white-space:pre;overflow-x:auto;line-height:normal;font-family:Menlo,'DejaVu Sans Mono',consolas,'Courier New',monospace\"></pre>\n"
      ],
      "text/plain": []
     },
     "metadata": {},
     "output_type": "display_data"
    },
    {
     "data": {
      "text/html": [
       "<img src=\"./cv_seminar_1\\Blue_channel.jpg\" width=\"300\">"
      ],
      "text/plain": [
       "\u001b[1m<\u001b[0m\u001b[1;95mIPython.core.display.HTML\u001b[0m\u001b[39m object\u001b[0m\u001b[1m>\u001b[0m"
      ]
     },
     "metadata": {},
     "output_type": "display_data"
    },
    {
     "data": {
      "text/html": [
       "<pre style=\"white-space:pre;overflow-x:auto;line-height:normal;font-family:Menlo,'DejaVu Sans Mono',consolas,'Courier New',monospace\"></pre>\n"
      ],
      "text/plain": []
     },
     "metadata": {},
     "output_type": "display_data"
    },
    {
     "data": {
      "text/html": [
       "<img src=\"./cv_seminar_1\\Green_channel.jpg\" width=\"300\">"
      ],
      "text/plain": [
       "\u001b[1m<\u001b[0m\u001b[1;95mIPython.core.display.HTML\u001b[0m\u001b[39m object\u001b[0m\u001b[1m>\u001b[0m"
      ]
     },
     "metadata": {},
     "output_type": "display_data"
    },
    {
     "data": {
      "text/html": [
       "<pre style=\"white-space:pre;overflow-x:auto;line-height:normal;font-family:Menlo,'DejaVu Sans Mono',consolas,'Courier New',monospace\"></pre>\n"
      ],
      "text/plain": []
     },
     "metadata": {},
     "output_type": "display_data"
    },
    {
     "data": {
      "text/html": [
       "<img src=\"./cv_seminar_1\\Red_channel.jpg\" width=\"300\">"
      ],
      "text/plain": [
       "\u001b[1m<\u001b[0m\u001b[1;95mIPython.core.display.HTML\u001b[0m\u001b[39m object\u001b[0m\u001b[1m>\u001b[0m"
      ]
     },
     "metadata": {},
     "output_type": "display_data"
    }
   ],
   "source": [
    "channels = splitchenal(img, lib=\"cv2\", show_jupyter=True, save_path=\"./cv_seminar_1\")"
   ]
  },
  {
   "cell_type": "markdown",
   "id": "8b95a5b7-6e88-460b-adbc-499d9c486650",
   "metadata": {},
   "source": [
    "### Тоже самое для PIL"
   ]
  },
  {
   "cell_type": "code",
   "execution_count": 26,
   "id": "f950ba42-9b62-4d4b-8c0d-de5a21db210e",
   "metadata": {},
   "outputs": [
    {
     "data": {
      "text/html": [
       "<pre style=\"white-space:pre;overflow-x:auto;line-height:normal;font-family:Menlo,'DejaVu Sans Mono',consolas,'Courier New',monospace\"></pre>\n"
      ],
      "text/plain": []
     },
     "metadata": {},
     "output_type": "display_data"
    },
    {
     "data": {
      "text/html": [
       "<img src=\"./cv_seminar_1/example.jpg\" width=\"300\" height=\"300\">"
      ],
      "text/plain": [
       "\u001b[1m<\u001b[0m\u001b[1;95mIPython.core.display.HTML\u001b[0m\u001b[39m object\u001b[0m\u001b[1m>\u001b[0m"
      ]
     },
     "metadata": {},
     "output_type": "display_data"
    }
   ],
   "source": [
    "# PIL\n",
    "img = imgop(\"./cv_seminar_1/example.jpg\", lib=\"PIL\", show_jupyter=True)"
   ]
  },
  {
   "cell_type": "code",
   "execution_count": 27,
   "id": "a60258f8-3c85-4c7a-8af9-19489b8f4bd9",
   "metadata": {},
   "outputs": [
    {
     "data": {
      "text/html": [
       "<pre style=\"white-space:pre;overflow-x:auto;line-height:normal;font-family:Menlo,'DejaVu Sans Mono',consolas,'Courier New',monospace\"></pre>\n"
      ],
      "text/plain": []
     },
     "metadata": {},
     "output_type": "display_data"
    },
    {
     "data": {
      "text/html": [
       "<img src=\"./cv_seminar_1\\Blue_channel.jpg\" width=\"300\">"
      ],
      "text/plain": [
       "\u001b[1m<\u001b[0m\u001b[1;95mIPython.core.display.HTML\u001b[0m\u001b[39m object\u001b[0m\u001b[1m>\u001b[0m"
      ]
     },
     "metadata": {},
     "output_type": "display_data"
    },
    {
     "data": {
      "text/html": [
       "<pre style=\"white-space:pre;overflow-x:auto;line-height:normal;font-family:Menlo,'DejaVu Sans Mono',consolas,'Courier New',monospace\"></pre>\n"
      ],
      "text/plain": []
     },
     "metadata": {},
     "output_type": "display_data"
    },
    {
     "data": {
      "text/html": [
       "<img src=\"./cv_seminar_1\\Green_channel.jpg\" width=\"300\">"
      ],
      "text/plain": [
       "\u001b[1m<\u001b[0m\u001b[1;95mIPython.core.display.HTML\u001b[0m\u001b[39m object\u001b[0m\u001b[1m>\u001b[0m"
      ]
     },
     "metadata": {},
     "output_type": "display_data"
    },
    {
     "data": {
      "text/html": [
       "<pre style=\"white-space:pre;overflow-x:auto;line-height:normal;font-family:Menlo,'DejaVu Sans Mono',consolas,'Courier New',monospace\"></pre>\n"
      ],
      "text/plain": []
     },
     "metadata": {},
     "output_type": "display_data"
    },
    {
     "data": {
      "text/html": [
       "<img src=\"./cv_seminar_1\\Red_channel.jpg\" width=\"300\">"
      ],
      "text/plain": [
       "\u001b[1m<\u001b[0m\u001b[1;95mIPython.core.display.HTML\u001b[0m\u001b[39m object\u001b[0m\u001b[1m>\u001b[0m"
      ]
     },
     "metadata": {},
     "output_type": "display_data"
    }
   ],
   "source": [
    "channels = splitchenal(img, lib=\"PIL\", show_jupyter=True, save_path=\"./cv_seminar_1\")"
   ]
  },
  {
   "cell_type": "markdown",
   "id": "6b94561b-782a-40e7-8225-de991f821a99",
   "metadata": {},
   "source": [
    "<hr style=\"border: 1px solid rgba(50, 50, 255, 0.5); width: 100%;\">\n",
    "\n",
    "## Задание 4: Изменение размера и обрезка изображений\n",
    "\n",
    "**Описание:**\n",
    "1. Загрузите изображение `example.jpg` с помощью OpenCV и Pillow.\n",
    "2. Измените размер изображения до 300x300 пикселей.\n",
    "3. Обрежьте центральную область размером 200x200 пикселей.\n",
    "4. Сохраните полученные результаты.\n",
    "\n",
    "<hr style=\"border: 1px solid rgba(50, 50, 255, 0.5); width: 100%;\">"
   ]
  },
  {
   "cell_type": "markdown",
   "id": "0956a7b6-1122-41bf-930e-4faad5e3a7be",
   "metadata": {},
   "source": [
    "### Функция для изменения размера и обрезки изображения"
   ]
  },
  {
   "cell_type": "code",
   "execution_count": 28,
   "id": "a3b942a2-2151-4ce9-8ca8-5eeb09d8c372",
   "metadata": {
    "jupyter": {
     "source_hidden": true
    }
   },
   "outputs": [],
   "source": [
    "def imgproc(img: Union[np.ndarray, Image.Image], lib=\"cv2\", save_path=\"./\", show_jupyter: bool = False):\n",
    "    liblist = [\"cv2\", \"PIL\"]\n",
    "    assert lib in liblist, log.error(f\"Некорректное значение lib: {lib}. Доступные варианты: {liblist}\")\n",
    "    \n",
    "    os.makedirs(save_path, exist_ok=True)\n",
    "    \n",
    "    if lib == \"cv2\":\n",
    "        if not isinstance(img, np.ndarray):\n",
    "            raise ValueError(\"Ожидается изображение формата OpenCV (numpy.ndarray).\")\n",
    "        img_resized = cv2.resize(img, (300, 300))\n",
    "        start = (300 - 200) // 2\n",
    "        img_cropped = img_resized[start:start + 200, start:start + 200]\n",
    "\n",
    "        resized_path = os.path.join(save_path, \"cv2_resized.jpg\")\n",
    "        cropped_path = os.path.join(save_path, \"cv2_cropped.jpg\")\n",
    "        cv2.imwrite(resized_path, img_resized)\n",
    "        cv2.imwrite(cropped_path, img_cropped)\n",
    "\n",
    "    elif lib == \"PIL\":\n",
    "        if not isinstance(img, Image.Image):\n",
    "            raise ValueError(\"Ожидается изображение формата PIL (Image.Image).\")\n",
    "        img_resized = img.resize((300, 300))\n",
    "        start = (300 - 200) // 2\n",
    "        img_cropped = img_resized.crop((start, start, start + 200, start + 200))\n",
    "\n",
    "        resized_path = os.path.join(save_path, \"PIL_resized.jpg\")\n",
    "        cropped_path = os.path.join(save_path, \"PIL_cropped.jpg\")\n",
    "        img_resized.save(resized_path)\n",
    "        img_cropped.save(cropped_path)\n",
    "\n",
    "    if show_jupyter:\n",
    "        ipd.display(HTML(f'<img src=\"{resized_path}\">'))\n",
    "        ipd.display(HTML(f'<img src=\"{cropped_path}\">'))\n",
    "\n",
    "    return img_resized, img_cropped"
   ]
  },
  {
   "cell_type": "markdown",
   "id": "1dba82da-6eb5-4487-bebe-041956652922",
   "metadata": {},
   "source": [
    "### Загружаем картинку"
   ]
  },
  {
   "cell_type": "code",
   "execution_count": 29,
   "id": "1723088b-32fd-49c0-bc5b-c52e1555a8b4",
   "metadata": {},
   "outputs": [
    {
     "data": {
      "text/html": [
       "<pre style=\"white-space:pre;overflow-x:auto;line-height:normal;font-family:Menlo,'DejaVu Sans Mono',consolas,'Courier New',monospace\"><span style=\"color: #7fbfbf; text-decoration-color: #7fbfbf\">02:12:48-784389 </span><span style=\"color: #000080; text-decoration-color: #000080\">INFO    </span> Изображение сохранено: .<span style=\"color: #800080; text-decoration-color: #800080\">/</span><span style=\"color: #ff00ff; text-decoration-color: #ff00ff\">cv_seminar_1</span>\\example.jpg                                         \n",
       "</pre>\n"
      ],
      "text/plain": [
       "\u001b[2;36m02:12:48-784389\u001b[0m\u001b[2;36m \u001b[0m\u001b[34mINFO    \u001b[0m Изображение сохранено: .\u001b[35m/\u001b[0m\u001b[95mcv_seminar_1\u001b[0m\\example.jpg                                         \n"
      ]
     },
     "metadata": {},
     "output_type": "display_data"
    }
   ],
   "source": [
    "download_image(\"https://image.civitai.com/xG1nkqKTMzGDvpLrqFT7WA/f6eead45-0ed7-412c-9aba-d4d390c22cbb/original=true,quality=90/53851278.jpeg\",\n",
    "               \"./cv_seminar_1\",\n",
    "               \"example.jpg\")"
   ]
  },
  {
   "cell_type": "markdown",
   "id": "e353667e-4280-488a-a6f0-6f6f54d40732",
   "metadata": {},
   "source": [
    "### Проверяем для OpenCV"
   ]
  },
  {
   "cell_type": "code",
   "execution_count": 30,
   "id": "ac0b8e83-0ac3-4bb6-9aec-f5c0d84b48d9",
   "metadata": {},
   "outputs": [
    {
     "data": {
      "text/html": [
       "<pre style=\"white-space:pre;overflow-x:auto;line-height:normal;font-family:Menlo,'DejaVu Sans Mono',consolas,'Courier New',monospace\"></pre>\n"
      ],
      "text/plain": []
     },
     "metadata": {},
     "output_type": "display_data"
    },
    {
     "data": {
      "text/html": [
       "<img src=\"./cv_seminar_1/example.jpg\" width=\"300\" height=\"300\">"
      ],
      "text/plain": [
       "\u001b[1m<\u001b[0m\u001b[1;95mIPython.core.display.HTML\u001b[0m\u001b[39m object\u001b[0m\u001b[1m>\u001b[0m"
      ]
     },
     "metadata": {},
     "output_type": "display_data"
    }
   ],
   "source": [
    "# OpenCV\n",
    "img = imgop(\"./cv_seminar_1/example.jpg\", lib=\"cv2\", show_jupyter=True)"
   ]
  },
  {
   "cell_type": "code",
   "execution_count": 31,
   "id": "b39e3dcc-f98c-42e6-87c8-d82f1810fe19",
   "metadata": {},
   "outputs": [
    {
     "data": {
      "text/html": [
       "<pre style=\"white-space:pre;overflow-x:auto;line-height:normal;font-family:Menlo,'DejaVu Sans Mono',consolas,'Courier New',monospace\"></pre>\n"
      ],
      "text/plain": []
     },
     "metadata": {},
     "output_type": "display_data"
    },
    {
     "data": {
      "text/html": [
       "<img src=\"./cv_seminar_1\\cv2_resized.jpg\">"
      ],
      "text/plain": [
       "\u001b[1m<\u001b[0m\u001b[1;95mIPython.core.display.HTML\u001b[0m\u001b[39m object\u001b[0m\u001b[1m>\u001b[0m"
      ]
     },
     "metadata": {},
     "output_type": "display_data"
    },
    {
     "data": {
      "text/html": [
       "<pre style=\"white-space:pre;overflow-x:auto;line-height:normal;font-family:Menlo,'DejaVu Sans Mono',consolas,'Courier New',monospace\"></pre>\n"
      ],
      "text/plain": []
     },
     "metadata": {},
     "output_type": "display_data"
    },
    {
     "data": {
      "text/html": [
       "<img src=\"./cv_seminar_1\\cv2_cropped.jpg\">"
      ],
      "text/plain": [
       "\u001b[1m<\u001b[0m\u001b[1;95mIPython.core.display.HTML\u001b[0m\u001b[39m object\u001b[0m\u001b[1m>\u001b[0m"
      ]
     },
     "metadata": {},
     "output_type": "display_data"
    }
   ],
   "source": [
    "resized_cv2, cropped_cv2 = imgproc(img, lib=\"cv2\", show_jupyter=True, save_path=\"./cv_seminar_1\")"
   ]
  },
  {
   "cell_type": "markdown",
   "id": "98295351-4d05-409e-9c78-7ec32f1c30da",
   "metadata": {},
   "source": [
    "### Проверяем для PIL"
   ]
  },
  {
   "cell_type": "code",
   "execution_count": 32,
   "id": "8ae249e1-2908-4d83-8fce-c38d5097339f",
   "metadata": {},
   "outputs": [
    {
     "data": {
      "text/html": [
       "<pre style=\"white-space:pre;overflow-x:auto;line-height:normal;font-family:Menlo,'DejaVu Sans Mono',consolas,'Courier New',monospace\"></pre>\n"
      ],
      "text/plain": []
     },
     "metadata": {},
     "output_type": "display_data"
    },
    {
     "data": {
      "text/html": [
       "<img src=\"./cv_seminar_1/example.jpg\" width=\"300\" height=\"300\">"
      ],
      "text/plain": [
       "\u001b[1m<\u001b[0m\u001b[1;95mIPython.core.display.HTML\u001b[0m\u001b[39m object\u001b[0m\u001b[1m>\u001b[0m"
      ]
     },
     "metadata": {},
     "output_type": "display_data"
    }
   ],
   "source": [
    "# PIL\n",
    "img = imgop(\"./cv_seminar_1/example.jpg\", lib=\"PIL\", show_jupyter=True)"
   ]
  },
  {
   "cell_type": "code",
   "execution_count": 33,
   "id": "2e984864-d5af-4f7e-b584-f391e400dc52",
   "metadata": {},
   "outputs": [
    {
     "data": {
      "text/html": [
       "<pre style=\"white-space:pre;overflow-x:auto;line-height:normal;font-family:Menlo,'DejaVu Sans Mono',consolas,'Courier New',monospace\"></pre>\n"
      ],
      "text/plain": []
     },
     "metadata": {},
     "output_type": "display_data"
    },
    {
     "data": {
      "text/html": [
       "<img src=\"./cv_seminar_1\\PIL_resized.jpg\">"
      ],
      "text/plain": [
       "\u001b[1m<\u001b[0m\u001b[1;95mIPython.core.display.HTML\u001b[0m\u001b[39m object\u001b[0m\u001b[1m>\u001b[0m"
      ]
     },
     "metadata": {},
     "output_type": "display_data"
    },
    {
     "data": {
      "text/html": [
       "<pre style=\"white-space:pre;overflow-x:auto;line-height:normal;font-family:Menlo,'DejaVu Sans Mono',consolas,'Courier New',monospace\"></pre>\n"
      ],
      "text/plain": []
     },
     "metadata": {},
     "output_type": "display_data"
    },
    {
     "data": {
      "text/html": [
       "<img src=\"./cv_seminar_1\\PIL_cropped.jpg\">"
      ],
      "text/plain": [
       "\u001b[1m<\u001b[0m\u001b[1;95mIPython.core.display.HTML\u001b[0m\u001b[39m object\u001b[0m\u001b[1m>\u001b[0m"
      ]
     },
     "metadata": {},
     "output_type": "display_data"
    }
   ],
   "source": [
    "resized_cv2, cropped_cv2 = imgproc(img, lib=\"PIL\", show_jupyter=True, save_path=\"./cv_seminar_1\")"
   ]
  },
  {
   "cell_type": "markdown",
   "id": "1a3152d2-1794-4e74-8443-0a59122801b8",
   "metadata": {},
   "source": [
    "<hr style=\"border: 1px solid rgba(50, 50, 255, 0.5); width: 100%;\">\n",
    "\n",
    "## Задание 5: Поворот изображений на произвольный угол\n",
    "\n",
    "**Описание:**\n",
    "1. Загрузите изображение `example.jpg` с помощью OpenCV и Pillow.\n",
    "2. Поверните изображение на 45 градусов по часовой стрелке.\n",
    "3. Поверните изображение на 45 градусов против часовой стрелки.\n",
    "4. Сохраните результаты.\n",
    "\n",
    "<hr style=\"border: 1px solid rgba(50, 50, 255, 0.5); width: 100%;\">"
   ]
  },
  {
   "cell_type": "markdown",
   "id": "66938645-4fad-4275-996e-10cd825130e3",
   "metadata": {},
   "source": [
    "### Функция для поворота изображения на заданный угол"
   ]
  },
  {
   "cell_type": "code",
   "execution_count": 34,
   "id": "4ddf0435-73c8-4737-b5b9-ef5f8f97b049",
   "metadata": {
    "jupyter": {
     "source_hidden": true
    }
   },
   "outputs": [],
   "source": [
    "def imgrot(img: Union[np.ndarray, Image.Image], angle: float, lib: str = \"cv2\", save_path=\"./\", \n",
    "                 show_jupyter: bool = False, fixed_size: tuple = (300, 300)):\n",
    "    liblist = [\"cv2\", \"PIL\"]\n",
    "    assert lib in liblist, log.error(f\"Некорректное значение lib: {lib}. Доступные варианты: {liblist}\")\n",
    "    \n",
    "    os.makedirs(save_path, exist_ok=True)\n",
    "    \n",
    "    if lib == \"cv2\":\n",
    "        if not isinstance(img, np.ndarray):\n",
    "            raise ValueError(\"Ожидается изображение формата OpenCV (numpy.ndarray).\")\n",
    "        \n",
    "        (h, w) = img.shape[:2]\n",
    "        center = (w // 2, h // 2)\n",
    "        \n",
    "        rotation_matrix = cv2.getRotationMatrix2D(center, angle, 1.0)\n",
    "        rotated_img = cv2.warpAffine(img, rotation_matrix, (w, h))\n",
    "        \n",
    "        rotated_resized = cv2.resize(rotated_img, fixed_size)\n",
    "        save_file = os.path.join(save_path, f\"cv2_rotated_{angle}.jpg\")\n",
    "        cv2.imwrite(save_file, rotated_resized)\n",
    "    \n",
    "    elif lib == \"PIL\":\n",
    "        if not isinstance(img, Image.Image):\n",
    "            raise ValueError(\"Ожидается изображение формата PIL (Image.Image).\")\n",
    "        \n",
    "        rotated_img = img.rotate(-angle, expand=True)\n",
    "        rotated_resized = rotated_img.resize(fixed_size)\n",
    "        \n",
    "        save_file = os.path.join(save_path, f\"PIL_rotated_{angle}.jpg\")\n",
    "        rotated_resized.save(save_file)\n",
    "\n",
    "    if show_jupyter:\n",
    "        ipd.display(HTML(f'<img src=\"{save_file}\" width=\"{fixed_size[0]}\" height=\"{fixed_size[1]}\">'))\n",
    "    \n",
    "    return rotated_resized"
   ]
  },
  {
   "cell_type": "markdown",
   "id": "12356918-4d9a-4509-9681-af4f94903e8f",
   "metadata": {},
   "source": [
    "### Загружаем картинку"
   ]
  },
  {
   "cell_type": "code",
   "execution_count": 35,
   "id": "cfed9894-d49a-4dc3-bae3-5b6ba1a25130",
   "metadata": {},
   "outputs": [
    {
     "data": {
      "text/html": [
       "<pre style=\"white-space:pre;overflow-x:auto;line-height:normal;font-family:Menlo,'DejaVu Sans Mono',consolas,'Courier New',monospace\"><span style=\"color: #7fbfbf; text-decoration-color: #7fbfbf\">02:12:49-310011 </span><span style=\"color: #000080; text-decoration-color: #000080\">INFO    </span> Изображение сохранено: .<span style=\"color: #800080; text-decoration-color: #800080\">/</span><span style=\"color: #ff00ff; text-decoration-color: #ff00ff\">cv_seminar_1</span>\\example.jpg                                         \n",
       "</pre>\n"
      ],
      "text/plain": [
       "\u001b[2;36m02:12:49-310011\u001b[0m\u001b[2;36m \u001b[0m\u001b[34mINFO    \u001b[0m Изображение сохранено: .\u001b[35m/\u001b[0m\u001b[95mcv_seminar_1\u001b[0m\\example.jpg                                         \n"
      ]
     },
     "metadata": {},
     "output_type": "display_data"
    }
   ],
   "source": [
    "download_image(\"https://image.civitai.com/xG1nkqKTMzGDvpLrqFT7WA/8eb400cb-09d9-4228-a2aa-5b9f53f26429/original=true,quality=90/54372021.jpeg\",\n",
    "               \"./cv_seminar_1\",\n",
    "               \"example.jpg\")"
   ]
  },
  {
   "cell_type": "markdown",
   "id": "a410f403-bb10-486b-a159-be3d3b4322b4",
   "metadata": {},
   "source": [
    "### Проверяем для OpenCV"
   ]
  },
  {
   "cell_type": "code",
   "execution_count": 36,
   "id": "32f1dc49-37f0-4e07-8131-c69b06fdc7b0",
   "metadata": {},
   "outputs": [
    {
     "data": {
      "text/html": [
       "<pre style=\"white-space:pre;overflow-x:auto;line-height:normal;font-family:Menlo,'DejaVu Sans Mono',consolas,'Courier New',monospace\"></pre>\n"
      ],
      "text/plain": []
     },
     "metadata": {},
     "output_type": "display_data"
    },
    {
     "data": {
      "text/html": [
       "<img src=\"./cv_seminar_1/example.jpg\" width=\"300\" height=\"300\">"
      ],
      "text/plain": [
       "\u001b[1m<\u001b[0m\u001b[1;95mIPython.core.display.HTML\u001b[0m\u001b[39m object\u001b[0m\u001b[1m>\u001b[0m"
      ]
     },
     "metadata": {},
     "output_type": "display_data"
    }
   ],
   "source": [
    "# OpenCV\n",
    "img = imgop(\"./cv_seminar_1/example.jpg\", lib=\"cv2\", show_jupyter=True)"
   ]
  },
  {
   "cell_type": "code",
   "execution_count": 37,
   "id": "17579d2b-3cce-47f7-8b23-748c7e0531ac",
   "metadata": {},
   "outputs": [
    {
     "data": {
      "text/html": [
       "<pre style=\"white-space:pre;overflow-x:auto;line-height:normal;font-family:Menlo,'DejaVu Sans Mono',consolas,'Courier New',monospace\"></pre>\n"
      ],
      "text/plain": []
     },
     "metadata": {},
     "output_type": "display_data"
    },
    {
     "data": {
      "text/html": [
       "<img src=\"./cv_seminar_1\\cv2_rotated_45.jpg\" width=\"300\" height=\"300\">"
      ],
      "text/plain": [
       "\u001b[1m<\u001b[0m\u001b[1;95mIPython.core.display.HTML\u001b[0m\u001b[39m object\u001b[0m\u001b[1m>\u001b[0m"
      ]
     },
     "metadata": {},
     "output_type": "display_data"
    },
    {
     "data": {
      "text/html": [
       "<pre style=\"white-space:pre;overflow-x:auto;line-height:normal;font-family:Menlo,'DejaVu Sans Mono',consolas,'Courier New',monospace\"></pre>\n"
      ],
      "text/plain": []
     },
     "metadata": {},
     "output_type": "display_data"
    },
    {
     "data": {
      "text/html": [
       "<img src=\"./cv_seminar_1\\cv2_rotated_-45.jpg\" width=\"300\" height=\"300\">"
      ],
      "text/plain": [
       "\u001b[1m<\u001b[0m\u001b[1;95mIPython.core.display.HTML\u001b[0m\u001b[39m object\u001b[0m\u001b[1m>\u001b[0m"
      ]
     },
     "metadata": {},
     "output_type": "display_data"
    }
   ],
   "source": [
    "rotated_45_cw_cv2 = imgrot(img, angle=45, lib=\"cv2\", show_jupyter=True, save_path=\"./cv_seminar_1\")\n",
    "rotated_45_ccw_cv2 = imgrot(img, angle=-45, lib=\"cv2\", show_jupyter=True, save_path=\"./cv_seminar_1\")"
   ]
  },
  {
   "cell_type": "markdown",
   "id": "9824f0ea-b305-4239-9f7f-79d12aa64f10",
   "metadata": {},
   "source": [
    "### Проверяем для PIL"
   ]
  },
  {
   "cell_type": "code",
   "execution_count": 38,
   "id": "9cfb579d-2646-4b37-8a9b-504c103582a1",
   "metadata": {},
   "outputs": [
    {
     "data": {
      "text/html": [
       "<pre style=\"white-space:pre;overflow-x:auto;line-height:normal;font-family:Menlo,'DejaVu Sans Mono',consolas,'Courier New',monospace\"></pre>\n"
      ],
      "text/plain": []
     },
     "metadata": {},
     "output_type": "display_data"
    },
    {
     "data": {
      "text/html": [
       "<img src=\"./cv_seminar_1/example.jpg\" width=\"300\" height=\"300\">"
      ],
      "text/plain": [
       "\u001b[1m<\u001b[0m\u001b[1;95mIPython.core.display.HTML\u001b[0m\u001b[39m object\u001b[0m\u001b[1m>\u001b[0m"
      ]
     },
     "metadata": {},
     "output_type": "display_data"
    }
   ],
   "source": [
    "# PIL\n",
    "img = imgop(\"./cv_seminar_1/example.jpg\", lib=\"PIL\", show_jupyter=True)"
   ]
  },
  {
   "cell_type": "code",
   "execution_count": 39,
   "id": "e26b836e-f1dd-47ed-b7a4-2d4c52a9a433",
   "metadata": {},
   "outputs": [
    {
     "data": {
      "text/html": [
       "<pre style=\"white-space:pre;overflow-x:auto;line-height:normal;font-family:Menlo,'DejaVu Sans Mono',consolas,'Courier New',monospace\"></pre>\n"
      ],
      "text/plain": []
     },
     "metadata": {},
     "output_type": "display_data"
    },
    {
     "data": {
      "text/html": [
       "<img src=\"./cv_seminar_1\\PIL_rotated_45.jpg\" width=\"300\" height=\"300\">"
      ],
      "text/plain": [
       "\u001b[1m<\u001b[0m\u001b[1;95mIPython.core.display.HTML\u001b[0m\u001b[39m object\u001b[0m\u001b[1m>\u001b[0m"
      ]
     },
     "metadata": {},
     "output_type": "display_data"
    },
    {
     "data": {
      "text/html": [
       "<pre style=\"white-space:pre;overflow-x:auto;line-height:normal;font-family:Menlo,'DejaVu Sans Mono',consolas,'Courier New',monospace\"></pre>\n"
      ],
      "text/plain": []
     },
     "metadata": {},
     "output_type": "display_data"
    },
    {
     "data": {
      "text/html": [
       "<img src=\"./cv_seminar_1\\PIL_rotated_-45.jpg\" width=\"300\" height=\"300\">"
      ],
      "text/plain": [
       "\u001b[1m<\u001b[0m\u001b[1;95mIPython.core.display.HTML\u001b[0m\u001b[39m object\u001b[0m\u001b[1m>\u001b[0m"
      ]
     },
     "metadata": {},
     "output_type": "display_data"
    }
   ],
   "source": [
    "rotated_45_cw_cv2 = imgrot(img, angle=45, lib=\"PIL\", show_jupyter=True, save_path=\"./cv_seminar_1\")\n",
    "rotated_45_ccw_cv2 = imgrot(img, angle=-45, lib=\"PIL\", show_jupyter=True, save_path=\"./cv_seminar_1\")"
   ]
  },
  {
   "cell_type": "markdown",
   "id": "bdc4295b-30ab-4c4a-99c6-1223b8bdbd84",
   "metadata": {},
   "source": [
    "<hr style=\"border: 1px solid rgba(50, 50, 255, 0.5); width: 100%;\">\n",
    "\n",
    "## Задание 6: Изменение контраста и яркости\n",
    "\n",
    "**Описание:**\n",
    "1. Загрузите изображение `example.jpg` с помощью OpenCV и Pillow.\n",
    "2. Увеличьте контраст изображения на 50% и яркость на 30 единиц.\n",
    "3. Сохраните измененные изображения.\n",
    "\n",
    "<hr style=\"border: 1px solid rgba(50, 50, 255, 0.5); width: 100%;\">"
   ]
  },
  {
   "cell_type": "markdown",
   "id": "ca234435-28f4-40ed-9ea7-faf68f86bc2e",
   "metadata": {},
   "source": [
    "### Загружаем картинку"
   ]
  },
  {
   "cell_type": "code",
   "execution_count": 40,
   "id": "57b8d139-46b5-4ba1-8745-f522ffbc44fa",
   "metadata": {},
   "outputs": [
    {
     "data": {
      "text/html": [
       "<pre style=\"white-space:pre;overflow-x:auto;line-height:normal;font-family:Menlo,'DejaVu Sans Mono',consolas,'Courier New',monospace\"><span style=\"color: #7fbfbf; text-decoration-color: #7fbfbf\">02:12:49-864088 </span><span style=\"color: #000080; text-decoration-color: #000080\">INFO    </span> Изображение сохранено: .<span style=\"color: #800080; text-decoration-color: #800080\">/</span><span style=\"color: #ff00ff; text-decoration-color: #ff00ff\">cv_seminar_1</span>\\example.jpg                                         \n",
       "</pre>\n"
      ],
      "text/plain": [
       "\u001b[2;36m02:12:49-864088\u001b[0m\u001b[2;36m \u001b[0m\u001b[34mINFO    \u001b[0m Изображение сохранено: .\u001b[35m/\u001b[0m\u001b[95mcv_seminar_1\u001b[0m\\example.jpg                                         \n"
      ]
     },
     "metadata": {},
     "output_type": "display_data"
    }
   ],
   "source": [
    "download_image(\"https://image.civitai.com/xG1nkqKTMzGDvpLrqFT7WA/a0f38dc0-db9e-4ddc-a295-b2693fcaf51d/original=true,quality=90/53394010.jpeg\",\n",
    "               \"./cv_seminar_1\",\n",
    "               \"example.jpg\")"
   ]
  },
  {
   "cell_type": "markdown",
   "id": "d623ad6e-766e-46bb-ab47-53b117d9a4fa",
   "metadata": {},
   "source": [
    "### Функция для изменения контрастности и яркости"
   ]
  },
  {
   "cell_type": "code",
   "execution_count": 41,
   "id": "51b4e83f-6533-4b26-925e-120766cf1732",
   "metadata": {
    "jupyter": {
     "source_hidden": true
    }
   },
   "outputs": [],
   "source": [
    "def adjbrincont(img: Union[np.ndarray, Image.Image], brightness: float = 1.0, contrast: float = 0.0, \n",
    "                               lib: str = \"cv2\", save_path=\"./\", show_jupyter: bool = False, fixed_size: tuple = (300, 300)):\n",
    "    liblist = [\"cv2\", \"PIL\"]\n",
    "    assert lib in liblist, log.error(f\"Некорректное значение lib: {lib}. Доступные варианты: {liblist}\")\n",
    "    \n",
    "    os.makedirs(save_path, exist_ok=True)\n",
    "\n",
    "    if lib == \"cv2\":\n",
    "        if not isinstance(img, np.ndarray):\n",
    "            raise ValueError(\"Ожидается изображение формата OpenCV (numpy.ndarray).\")\n",
    "        \n",
    "        contrast_factor = (contrast / 100) + 1  # Преобразуем процент в коэффициент (50% → 1.5)\n",
    "        img = cv2.convertScaleAbs(img, alpha=contrast_factor, beta=(brightness - 1) * 100)\n",
    "        \n",
    "        save_file = os.path.join(save_path, f\"cv2_b{brightness}_c{contrast}.jpg\")\n",
    "        cv2.imwrite(save_file, img)\n",
    "\n",
    "    elif lib == \"PIL\":\n",
    "        if not isinstance(img, Image.Image):\n",
    "            raise ValueError(\"Ожидается изображение формата PIL (Image.Image).\")\n",
    "        \n",
    "        img = ImageEnhance.Brightness(img).enhance(brightness)\n",
    "        contrast_factor = (contrast / 100) + 1  # Преобразуем процент в коэффициент\n",
    "        img = ImageEnhance.Contrast(img).enhance(contrast_factor)\n",
    "    \n",
    "        save_file = os.path.join(save_path, f\"PIL_b{brightness}_c{contrast}.jpg\")\n",
    "        img.save(save_file)\n",
    "\n",
    "    if show_jupyter:\n",
    "        ipd.display(HTML(f'<img src=\"{save_file}\" width=\"{fixed_size[0]}\" height=\"{fixed_size[1]}\">'))\n",
    "\n",
    "    return img"
   ]
  },
  {
   "cell_type": "markdown",
   "id": "249b1ec7-fb03-4450-8af1-29bd56e06a90",
   "metadata": {},
   "source": [
    "### Проверяем для OpenCV"
   ]
  },
  {
   "cell_type": "code",
   "execution_count": 42,
   "id": "ac1f6d84-aac9-4606-aa67-e5aae6074ac9",
   "metadata": {},
   "outputs": [
    {
     "data": {
      "text/html": [
       "<pre style=\"white-space:pre;overflow-x:auto;line-height:normal;font-family:Menlo,'DejaVu Sans Mono',consolas,'Courier New',monospace\"></pre>\n"
      ],
      "text/plain": []
     },
     "metadata": {},
     "output_type": "display_data"
    },
    {
     "data": {
      "text/html": [
       "<img src=\"./cv_seminar_1/example.jpg\" width=\"300\" height=\"300\">"
      ],
      "text/plain": [
       "\u001b[1m<\u001b[0m\u001b[1;95mIPython.core.display.HTML\u001b[0m\u001b[39m object\u001b[0m\u001b[1m>\u001b[0m"
      ]
     },
     "metadata": {},
     "output_type": "display_data"
    }
   ],
   "source": [
    "# OpenCV\n",
    "img = imgop(\"./cv_seminar_1/example.jpg\", lib=\"cv2\", show_jupyter=True)"
   ]
  },
  {
   "cell_type": "code",
   "execution_count": 43,
   "id": "d3819938-beed-404a-9a7e-87b34c4acc25",
   "metadata": {},
   "outputs": [
    {
     "data": {
      "text/html": [
       "<pre style=\"white-space:pre;overflow-x:auto;line-height:normal;font-family:Menlo,'DejaVu Sans Mono',consolas,'Courier New',monospace\"></pre>\n"
      ],
      "text/plain": []
     },
     "metadata": {},
     "output_type": "display_data"
    },
    {
     "data": {
      "text/html": [
       "<img src=\"./cv_seminar_1\\cv2_b1.3_c50.jpg\" width=\"300\" height=\"300\">"
      ],
      "text/plain": [
       "\u001b[1m<\u001b[0m\u001b[1;95mIPython.core.display.HTML\u001b[0m\u001b[39m object\u001b[0m\u001b[1m>\u001b[0m"
      ]
     },
     "metadata": {},
     "output_type": "display_data"
    }
   ],
   "source": [
    "bright_cv2 = adjbrincont(img, brightness=1.3, contrast=50, lib=\"cv2\", show_jupyter=True, save_path=\"./cv_seminar_1\")"
   ]
  },
  {
   "cell_type": "markdown",
   "id": "535c673f-4416-49ca-ab9c-139a8adf2f45",
   "metadata": {},
   "source": [
    "### Проверяем для PIL"
   ]
  },
  {
   "cell_type": "code",
   "execution_count": 44,
   "id": "91abdc4f-5840-4914-bc59-6c3f39e8847a",
   "metadata": {},
   "outputs": [
    {
     "data": {
      "text/html": [
       "<pre style=\"white-space:pre;overflow-x:auto;line-height:normal;font-family:Menlo,'DejaVu Sans Mono',consolas,'Courier New',monospace\"></pre>\n"
      ],
      "text/plain": []
     },
     "metadata": {},
     "output_type": "display_data"
    },
    {
     "data": {
      "text/html": [
       "<img src=\"./cv_seminar_1/example.jpg\" width=\"300\" height=\"300\">"
      ],
      "text/plain": [
       "\u001b[1m<\u001b[0m\u001b[1;95mIPython.core.display.HTML\u001b[0m\u001b[39m object\u001b[0m\u001b[1m>\u001b[0m"
      ]
     },
     "metadata": {},
     "output_type": "display_data"
    }
   ],
   "source": [
    "# PIL\n",
    "img = imgop(\"./cv_seminar_1/example.jpg\", lib=\"PIL\", show_jupyter=True)"
   ]
  },
  {
   "cell_type": "code",
   "execution_count": 45,
   "id": "becd67b6-c5f9-4013-b3d2-7635520eb347",
   "metadata": {},
   "outputs": [
    {
     "data": {
      "text/html": [
       "<pre style=\"white-space:pre;overflow-x:auto;line-height:normal;font-family:Menlo,'DejaVu Sans Mono',consolas,'Courier New',monospace\"></pre>\n"
      ],
      "text/plain": []
     },
     "metadata": {},
     "output_type": "display_data"
    },
    {
     "data": {
      "text/html": [
       "<img src=\"./cv_seminar_1\\PIL_b1.3_c50.jpg\" width=\"300\" height=\"300\">"
      ],
      "text/plain": [
       "\u001b[1m<\u001b[0m\u001b[1;95mIPython.core.display.HTML\u001b[0m\u001b[39m object\u001b[0m\u001b[1m>\u001b[0m"
      ]
     },
     "metadata": {},
     "output_type": "display_data"
    }
   ],
   "source": [
    "bright_cv2 = adjbrincont(img, brightness=1.3, contrast=50, lib=\"PIL\", show_jupyter=True, save_path=\"./cv_seminar_1\")"
   ]
  },
  {
   "cell_type": "markdown",
   "id": "4cc50182-7ae9-4729-957f-3b33276f7bd2",
   "metadata": {},
   "source": [
    "<hr style=\"border: 1px solid rgba(50, 50, 255, 0.5); width: 100%;\">\n",
    "\n",
    "## Задание 7: Гистограмма изображения и её визуализация\n",
    "\n",
    "**Описание:**\n",
    "1. Загрузите изображение `example.jpg` в градациях серого с помощью OpenCV и Pillow.\n",
    "2. Вычислите гистограмму интенсивности пикселей.\n",
    "3. Визуализируйте гистограмму.\n",
    "4. Сохраните результаты.\n",
    "\n",
    "<hr style=\"border: 1px solid rgba(50, 50, 255, 0.5); width: 100%;\">"
   ]
  },
  {
   "cell_type": "markdown",
   "id": "42919ee9-3de1-4ae9-868b-c4e1efecd25a",
   "metadata": {},
   "source": [
    "### Загружаем картинку"
   ]
  },
  {
   "cell_type": "code",
   "execution_count": 46,
   "id": "6c15d1fb-06e4-4706-a17f-ff005e2f9350",
   "metadata": {},
   "outputs": [
    {
     "data": {
      "text/html": [
       "<pre style=\"white-space:pre;overflow-x:auto;line-height:normal;font-family:Menlo,'DejaVu Sans Mono',consolas,'Courier New',monospace\"><span style=\"color: #7fbfbf; text-decoration-color: #7fbfbf\">02:12:50-895312 </span><span style=\"color: #000080; text-decoration-color: #000080\">INFO    </span> Изображение сохранено: .<span style=\"color: #800080; text-decoration-color: #800080\">/</span><span style=\"color: #ff00ff; text-decoration-color: #ff00ff\">cv_seminar_1</span>\\example.jpg                                         \n",
       "</pre>\n"
      ],
      "text/plain": [
       "\u001b[2;36m02:12:50-895312\u001b[0m\u001b[2;36m \u001b[0m\u001b[34mINFO    \u001b[0m Изображение сохранено: .\u001b[35m/\u001b[0m\u001b[95mcv_seminar_1\u001b[0m\\example.jpg                                         \n"
      ]
     },
     "metadata": {},
     "output_type": "display_data"
    }
   ],
   "source": [
    "download_image(\"https://image.civitai.com/xG1nkqKTMzGDvpLrqFT7WA/dac89a8f-c0fc-4414-9e0f-09172fab3699/original=true,quality=90/54063425.jpeg\",\n",
    "               \"./cv_seminar_1\",\n",
    "               \"example.jpg\")"
   ]
  },
  {
   "cell_type": "code",
   "execution_count": 47,
   "id": "4240b69e-9233-446a-a50c-634ac6c88f5d",
   "metadata": {},
   "outputs": [
    {
     "data": {
      "text/html": [
       "<pre style=\"white-space:pre;overflow-x:auto;line-height:normal;font-family:Menlo,'DejaVu Sans Mono',consolas,'Courier New',monospace\"></pre>\n"
      ],
      "text/plain": []
     },
     "metadata": {},
     "output_type": "display_data"
    },
    {
     "data": {
      "text/html": [
       "<img src=\"./cv_seminar_1/example.jpg\" width=\"300\" height=\"300\" style=\"filter: grayscale(100%);\">"
      ],
      "text/plain": [
       "\u001b[1m<\u001b[0m\u001b[1;95mIPython.core.display.HTML\u001b[0m\u001b[39m object\u001b[0m\u001b[1m>\u001b[0m"
      ]
     },
     "metadata": {},
     "output_type": "display_data"
    }
   ],
   "source": [
    "# OpenCV\n",
    "img_cv2 = imgop(\"./cv_seminar_1/example.jpg\", lib=\"cv2\", show_jupyter=True, grayscale=True)"
   ]
  },
  {
   "cell_type": "code",
   "execution_count": 48,
   "id": "bb09865b-0ef3-453f-b72d-a4f811753b27",
   "metadata": {},
   "outputs": [
    {
     "data": {
      "text/html": [
       "<pre style=\"white-space:pre;overflow-x:auto;line-height:normal;font-family:Menlo,'DejaVu Sans Mono',consolas,'Courier New',monospace\"></pre>\n"
      ],
      "text/plain": []
     },
     "metadata": {},
     "output_type": "display_data"
    },
    {
     "data": {
      "text/html": [
       "<img src=\"./cv_seminar_1/example.jpg\" width=\"300\" height=\"300\" style=\"filter: grayscale(100%);\">"
      ],
      "text/plain": [
       "\u001b[1m<\u001b[0m\u001b[1;95mIPython.core.display.HTML\u001b[0m\u001b[39m object\u001b[0m\u001b[1m>\u001b[0m"
      ]
     },
     "metadata": {},
     "output_type": "display_data"
    }
   ],
   "source": [
    "# PIL\n",
    "img_pil = imgop(\"./cv_seminar_1/example.jpg\", lib=\"PIL\", show_jupyter=True, grayscale=True)"
   ]
  },
  {
   "cell_type": "markdown",
   "id": "8a833ced-e93f-4dc0-bc95-e51ed747947a",
   "metadata": {},
   "source": [
    "### Функция для вычисления гистограммы интенсивности пикселей"
   ]
  },
  {
   "cell_type": "code",
   "execution_count": 49,
   "id": "dda81270-6403-4837-9f78-7ceaffedc82b",
   "metadata": {
    "jupyter": {
     "source_hidden": true
    }
   },
   "outputs": [],
   "source": [
    "def hist(\n",
    "    img: Union[np.ndarray, Image.Image],\n",
    "    color_space: str = \"RGB\",\n",
    "    save_path: str = \"./\",\n",
    "    show_jupyter: bool = False,\n",
    "    lib: str = \"cv2\",\n",
    "    channel: Optional[str] = None,  # Новый аргумент: конкретный канал\n",
    "):\n",
    "    # Проверка корректности параметров\n",
    "    assert lib in [\"cv2\", \"PIL\"], \"Некорректное значение lib. Доступные варианты: cv2, PIL.\"\n",
    "    assert color_space in [\"RGB\", \"HSV\", \"LAB\", \"GRAY\"], \"Некорректное цветовое пространство. Доступные варианты: RGB, HSV, LAB, GRAY.\"\n",
    "    \n",
    "    # Словарь допустимых каналов для каждого цветового пространства\n",
    "    valid_channels = {\n",
    "        \"RGB\": [\"R\", \"G\", \"B\"],\n",
    "        \"HSV\": [\"H\", \"S\", \"V\"],\n",
    "        \"LAB\": [\"L\", \"A\", \"B\"],\n",
    "        \"GRAY\": [\"Gray\"]\n",
    "    }\n",
    "    \n",
    "    # Проверка корректности канала (если указан)\n",
    "    if channel is not None:\n",
    "        assert channel in valid_channels[color_space], (\n",
    "            f\"Некорректный канал '{channel}' для пространства {color_space}. \"\n",
    "            f\"Допустимые каналы: {valid_channels[color_space]}\"\n",
    "        )\n",
    "\n",
    "    # Создание директории для сохранения\n",
    "    os.makedirs(save_path, exist_ok=True)\n",
    "\n",
    "    # Преобразование изображения в numpy.ndarray для OpenCV\n",
    "    if isinstance(img, Image.Image) and lib == \"cv2\":\n",
    "        img = np.array(img)\n",
    "        if img.ndim == 3 and img.shape[2] == 4:  # Если изображение RGBA, преобразуем в RGB\n",
    "            img = cv2.cvtColor(img, cv2.COLOR_RGBA2RGB)\n",
    "    elif lib == \"cv2\" and not isinstance(img, Image.Image):\n",
    "        img = cv2.cvtColor(img, cv2.COLOR_BGR2RGB)  # Конвертируем BGR в RGB для OpenCV\n",
    "\n",
    "    # Преобразование в нужное цветовое пространство\n",
    "    if lib == \"cv2\":\n",
    "        if color_space == \"HSV\":\n",
    "            img = cv2.cvtColor(img, cv2.COLOR_RGB2HSV)\n",
    "        elif color_space == \"LAB\":\n",
    "            img = cv2.cvtColor(img, cv2.COLOR_RGB2LAB)\n",
    "        elif color_space == \"GRAY\":\n",
    "            img = cv2.cvtColor(img, cv2.COLOR_RGB2GRAY)\n",
    "    elif lib == \"PIL\":\n",
    "        if color_space == \"HSV\":\n",
    "            img = img.convert(\"HSV\")\n",
    "        elif color_space == \"LAB\":\n",
    "            img = img.convert(\"LAB\")\n",
    "        elif color_space == \"GRAY\":\n",
    "            img = img.convert(\"L\")\n",
    "\n",
    "    # Разделение каналов\n",
    "    if color_space == \"GRAY\":\n",
    "        channels = [img]\n",
    "        channel_names = [\"Gray\"]\n",
    "    else:\n",
    "        if lib == \"cv2\":\n",
    "            channels = cv2.split(img)\n",
    "        elif lib == \"PIL\":\n",
    "            channels = img.split()\n",
    "        channel_names = valid_channels[color_space]\n",
    "\n",
    "    # Выбор конкретного канала (если указан)\n",
    "    if channel is not None:\n",
    "        idx = valid_channels[color_space].index(channel)\n",
    "        channels = [channels[idx]]\n",
    "        channel_names = [channel]\n",
    "\n",
    "    # Настройка подграфиков\n",
    "    fig, axes = plt.subplots(1, len(channels), figsize=(15, 5))  # 1 строка, N столбцов\n",
    "    if len(channels) == 1:\n",
    "        axes = [axes]  # Чтобы итерировать по списку\n",
    "\n",
    "    # Построение гистограмм\n",
    "    for i, (ch, name) in enumerate(zip(channels, channel_names)):\n",
    "        ax = axes[i]\n",
    "        if lib == \"cv2\":\n",
    "            hist_data = cv2.calcHist([ch], [0], None, [256], [0, 256])\n",
    "        elif lib == \"PIL\":\n",
    "            hist_data = ch.histogram()\n",
    "            hist_data = np.array(hist_data[:256])  # Ограничиваем диапазон до 256\n",
    "        \n",
    "        ax.plot(hist_data, color='black')\n",
    "        ax.set_xlim([0, 256])\n",
    "        ax.set_xlabel(\"Значение пикселя\")\n",
    "        ax.set_ylabel(\"Количество пикселей\")\n",
    "        ax.set_title(f\"Канал {name}\")\n",
    "\n",
    "    plt.suptitle(f\"Гистограммы в пространстве {color_space}\" + (f\" (Канал {channel})\" if channel else \"\"))\n",
    "    plt.tight_layout()\n",
    "\n",
    "    # Сохранение гистограммы\n",
    "    hist_path = os.path.join(save_path, f\"histogram_{color_space}_{lib}\" + (f\"_{channel}\" if channel else \"\") + \".png\")\n",
    "    plt.savefig(hist_path)\n",
    "    plt.close()\n",
    "\n",
    "    # Отображение в Jupyter\n",
    "    if show_jupyter:\n",
    "        ipd.display(ipd.HTML(f'<img src=\"{hist_path}\" width=\"800\">'))\n",
    "\n",
    "    return channels"
   ]
  },
  {
   "cell_type": "markdown",
   "id": "e23d4e09-8e09-46e1-b513-8a4f346aa51e",
   "metadata": {},
   "source": [
    "### Проверяем для OpenCV"
   ]
  },
  {
   "cell_type": "code",
   "execution_count": 50,
   "id": "e92dde2b-3ec0-4254-8c99-6f4b2ea14249",
   "metadata": {},
   "outputs": [
    {
     "data": {
      "text/html": [
       "<pre style=\"white-space:pre;overflow-x:auto;line-height:normal;font-family:Menlo,'DejaVu Sans Mono',consolas,'Courier New',monospace\"></pre>\n"
      ],
      "text/plain": []
     },
     "metadata": {},
     "output_type": "display_data"
    },
    {
     "data": {
      "text/html": [
       "<img src=\"./cv_seminar_1\\histogram_GRAY_cv2.png\" width=\"800\">"
      ],
      "text/plain": [
       "\u001b[1m<\u001b[0m\u001b[1;95mIPython.core.display.HTML\u001b[0m\u001b[39m object\u001b[0m\u001b[1m>\u001b[0m"
      ]
     },
     "metadata": {},
     "output_type": "display_data"
    }
   ],
   "source": [
    "hist_cv2 = hist(img_cv2, lib=\"cv2\", show_jupyter=True, save_path=\"./cv_seminar_1\", color_space=\"GRAY\")"
   ]
  },
  {
   "cell_type": "markdown",
   "id": "93269a26-afe5-4166-9b87-ae2c61ff8793",
   "metadata": {},
   "source": [
    "### Проверяем для PIL"
   ]
  },
  {
   "cell_type": "code",
   "execution_count": 51,
   "id": "0cef7d36-bdf9-449d-8c7c-20c5a02cc7ac",
   "metadata": {},
   "outputs": [
    {
     "data": {
      "text/html": [
       "<pre style=\"white-space:pre;overflow-x:auto;line-height:normal;font-family:Menlo,'DejaVu Sans Mono',consolas,'Courier New',monospace\"></pre>\n"
      ],
      "text/plain": []
     },
     "metadata": {},
     "output_type": "display_data"
    },
    {
     "data": {
      "text/html": [
       "<img src=\"./cv_seminar_1\\histogram_GRAY_PIL.png\" width=\"800\">"
      ],
      "text/plain": [
       "\u001b[1m<\u001b[0m\u001b[1;95mIPython.core.display.HTML\u001b[0m\u001b[39m object\u001b[0m\u001b[1m>\u001b[0m"
      ]
     },
     "metadata": {},
     "output_type": "display_data"
    }
   ],
   "source": [
    "hist_cv2 = hist(img_pil, lib=\"PIL\", show_jupyter=True, save_path=\"./cv_seminar_1\", color_space=\"GRAY\")"
   ]
  },
  {
   "cell_type": "markdown",
   "id": "34cf81ce-e5ac-4d5a-90e0-84f29c367b38",
   "metadata": {},
   "source": [
    "<hr style=\"border: 1px solid rgba(50, 50, 255, 0.5); width: 100%;\">\n",
    "\n",
    "## Задание 8: Конвертация между форматами OpenCV и Pillow\n",
    "\n",
    "**Описание:**\n",
    "1. Загрузите изображение `example.jpg` с помощью OpenCV.\n",
    "2. Преобразуйте его в формат Pillow, измените цветовое пространство и сохраните.\n",
    "3. Загрузите изображение `saved_gray_pil.png` с помощью Pillow.\n",
    "4. Преобразуйте его обратно в формат OpenCV, измените цветовое пространство и сохраните.\n",
    "\n",
    "<hr style=\"border: 1px solid rgba(50, 50, 255, 0.5); width: 100%;\">"
   ]
  },
  {
   "cell_type": "markdown",
   "id": "d2c9fcef-ffd9-4e18-95f5-c7ee4e7ad53f",
   "metadata": {},
   "source": [
    "### Загружаем картинку"
   ]
  },
  {
   "cell_type": "code",
   "execution_count": 52,
   "id": "80989f4b-b2c5-42b9-9be1-177c1f9c6b8e",
   "metadata": {},
   "outputs": [
    {
     "data": {
      "text/html": [
       "<pre style=\"white-space:pre;overflow-x:auto;line-height:normal;font-family:Menlo,'DejaVu Sans Mono',consolas,'Courier New',monospace\"><span style=\"color: #7fbfbf; text-decoration-color: #7fbfbf\">02:12:52-201141 </span><span style=\"color: #000080; text-decoration-color: #000080\">INFO    </span> Изображение сохранено: .<span style=\"color: #800080; text-decoration-color: #800080\">/</span><span style=\"color: #ff00ff; text-decoration-color: #ff00ff\">cv_seminar_1</span>\\example.jpg                                         \n",
       "</pre>\n"
      ],
      "text/plain": [
       "\u001b[2;36m02:12:52-201141\u001b[0m\u001b[2;36m \u001b[0m\u001b[34mINFO    \u001b[0m Изображение сохранено: .\u001b[35m/\u001b[0m\u001b[95mcv_seminar_1\u001b[0m\\example.jpg                                         \n"
      ]
     },
     "metadata": {},
     "output_type": "display_data"
    }
   ],
   "source": [
    "download_image(\"https://image.civitai.com/xG1nkqKTMzGDvpLrqFT7WA/db3a6471-ac5b-40ab-8afa-982afe2f0ddb/original=true,quality=90/54028299.jpeg\",\n",
    "               \"./cv_seminar_1\",\n",
    "               \"example.jpg\")"
   ]
  },
  {
   "cell_type": "markdown",
   "id": "c45fe6ed-252c-4091-b0c5-67583f898ba2",
   "metadata": {},
   "source": [
    "### Функция для изменения цветового пространства"
   ]
  },
  {
   "cell_type": "code",
   "execution_count": 53,
   "id": "882a42fb-3e80-4421-9cca-eceb283d0b9e",
   "metadata": {
    "jupyter": {
     "source_hidden": true
    }
   },
   "outputs": [],
   "source": [
    "def chcolspace(img: Union[np.ndarray, Image.Image], lib: str = \"cv2\", color_space: str = \"GRAY\", \n",
    "                       save_path: str = \"./\", show_jupyter: bool = False, fixed_size: tuple = (300, 300)):\n",
    "    liblist = [\"cv2\", \"PIL\"]\n",
    "    assert lib in liblist, log.error(f\"Некорректное значение lib: {lib}. Доступные варианты: {liblist}\")\n",
    "    assert color_space in [\"GRAY\", \"HSV\", \"LAB\", \"RGB\"], log.error(f\"Некорректное значение color_space: {color_space}. Доступные варианты: ['GRAY', 'HSV', 'LAB', 'RGB']\")\n",
    "    \n",
    "    os.makedirs(save_path, exist_ok=True)\n",
    "\n",
    "    if lib == \"cv2\":\n",
    "        if not isinstance(img, np.ndarray):\n",
    "            raise ValueError(\"Ожидается изображение формата OpenCV (numpy.ndarray).\")\n",
    "        \n",
    "        if color_space == \"GRAY\":\n",
    "            img_cs = cv2.cvtColor(img, cv2.COLOR_BGR2GRAY)\n",
    "        elif color_space == \"HSV\":\n",
    "            img_cs = cv2.cvtColor(img, cv2.COLOR_BGR2HSV)\n",
    "        elif color_space == \"LAB\":\n",
    "            img_cs = cv2.cvtColor(img, cv2.COLOR_BGR2LAB)\n",
    "        elif color_space == \"RGB\":\n",
    "            img_cs = cv2.cvtColor(img, cv2.COLOR_BGR2RGB)\n",
    "        \n",
    "        save_file = os.path.join(save_path, f\"cv2_{color_space}.jpg\")\n",
    "        cv2.imwrite(save_file, img)\n",
    "\n",
    "    elif lib == \"PIL\":\n",
    "        if not isinstance(img, Image.Image):\n",
    "            raise ValueError(\"Ожидается изображение формата PIL (Image.Image).\")\n",
    "        \n",
    "        if color_space == \"GRAY\":\n",
    "            img_cs = img.convert(\"L\")\n",
    "        elif color_space == \"RGB\":\n",
    "            img_cs = img.convert(\"RGB\")\n",
    "        elif color_space == \"HSV\":\n",
    "            img_cs = img.convert(\"RGB\").convert(\"HSV\")  # Преобразуем сначала в RGB, а потом в HSV\n",
    "        elif color_space == \"LAB\":\n",
    "            img_cs = img.convert(\"RGB\")  # PIL не поддерживает LAB напрямую, нужно использовать дополнительные библиотеки\n",
    "        \n",
    "        save_file = os.path.join(save_path, f\"PIL_{color_space}.jpg\")\n",
    "        img_cs.save(save_file)\n",
    "\n",
    "    if show_jupyter:\n",
    "        ipd.display(HTML(f'<img src=\"{save_file}\" width=\"{fixed_size[0]}\" height=\"{fixed_size[1]}\">'))\n",
    "\n",
    "    return img_cs"
   ]
  },
  {
   "cell_type": "markdown",
   "id": "959a8587-07bc-45c2-a292-9c6d47610ba8",
   "metadata": {},
   "source": [
    "### Открываем с помощью OpenCV -> PIL -> изменяем цветовое пространство"
   ]
  },
  {
   "cell_type": "code",
   "execution_count": 54,
   "id": "ff95a13c-2a3e-4a5e-bdd3-bce348a93af6",
   "metadata": {},
   "outputs": [
    {
     "data": {
      "text/html": [
       "<pre style=\"white-space:pre;overflow-x:auto;line-height:normal;font-family:Menlo,'DejaVu Sans Mono',consolas,'Courier New',monospace\"></pre>\n"
      ],
      "text/plain": []
     },
     "metadata": {},
     "output_type": "display_data"
    },
    {
     "data": {
      "text/html": [
       "<img src=\"./cv_seminar_1/example.jpg\" width=\"300\" height=\"300\">"
      ],
      "text/plain": [
       "\u001b[1m<\u001b[0m\u001b[1;95mIPython.core.display.HTML\u001b[0m\u001b[39m object\u001b[0m\u001b[1m>\u001b[0m"
      ]
     },
     "metadata": {},
     "output_type": "display_data"
    }
   ],
   "source": [
    "# OpenCV\n",
    "img_cv2 = imgop(\"./cv_seminar_1/example.jpg\", lib=\"cv2\", show_jupyter=True)"
   ]
  },
  {
   "cell_type": "code",
   "execution_count": 55,
   "id": "de97e530-f2db-4b12-b0b7-a5fcd59f4e38",
   "metadata": {},
   "outputs": [],
   "source": [
    "img_pil = Image.fromarray(img_cv2)"
   ]
  },
  {
   "cell_type": "code",
   "execution_count": 56,
   "id": "32ae0d5f-bd9f-48d1-8831-b5562af2d7d5",
   "metadata": {},
   "outputs": [
    {
     "data": {
      "text/html": [
       "<pre style=\"white-space:pre;overflow-x:auto;line-height:normal;font-family:Menlo,'DejaVu Sans Mono',consolas,'Courier New',monospace\"></pre>\n"
      ],
      "text/plain": []
     },
     "metadata": {},
     "output_type": "display_data"
    },
    {
     "data": {
      "text/html": [
       "<img src=\"./cv_seminar_1\\PIL_LAB.jpg\" width=\"300\" height=\"300\">"
      ],
      "text/plain": [
       "\u001b[1m<\u001b[0m\u001b[1;95mIPython.core.display.HTML\u001b[0m\u001b[39m object\u001b[0m\u001b[1m>\u001b[0m"
      ]
     },
     "metadata": {},
     "output_type": "display_data"
    }
   ],
   "source": [
    "result_pil = chcolspace(img_pil, lib=\"PIL\", color_space=\"LAB\", show_jupyter=True, save_path=\"./cv_seminar_1\")"
   ]
  },
  {
   "cell_type": "code",
   "execution_count": 57,
   "id": "fb08fb3e-b693-404f-819e-ee4dd26d3916",
   "metadata": {},
   "outputs": [],
   "source": [
    "img_cv2 = np.array(result_pil)"
   ]
  },
  {
   "cell_type": "code",
   "execution_count": 58,
   "id": "2596d9e7-5b97-44bd-a18d-63492cfb4ad5",
   "metadata": {},
   "outputs": [],
   "source": [
    "img_cv2 = cv2.cvtColor(img_cv2, cv2.COLOR_RGB2BGR)"
   ]
  },
  {
   "cell_type": "code",
   "execution_count": 59,
   "id": "3573760e-2270-4f7e-aa13-857680d96844",
   "metadata": {},
   "outputs": [
    {
     "data": {
      "text/html": [
       "<pre style=\"white-space:pre;overflow-x:auto;line-height:normal;font-family:Menlo,'DejaVu Sans Mono',consolas,'Courier New',monospace\"></pre>\n"
      ],
      "text/plain": []
     },
     "metadata": {},
     "output_type": "display_data"
    },
    {
     "data": {
      "text/html": [
       "<img src=\"./cv_seminar_1\\cv2_HSV.jpg\" width=\"300\" height=\"300\">"
      ],
      "text/plain": [
       "\u001b[1m<\u001b[0m\u001b[1;95mIPython.core.display.HTML\u001b[0m\u001b[39m object\u001b[0m\u001b[1m>\u001b[0m"
      ]
     },
     "metadata": {},
     "output_type": "display_data"
    }
   ],
   "source": [
    "result_cv2 = chcolspace(img_cv2, lib=\"cv2\", color_space=\"HSV\", show_jupyter=True, save_path=\"./cv_seminar_1\")"
   ]
  },
  {
   "cell_type": "markdown",
   "id": "9df6322e-533d-4b26-9cc9-887f353a3026",
   "metadata": {},
   "source": [
    "# Выводы"
   ]
  },
  {
   "cell_type": "markdown",
   "id": "1ff7adf4-8be2-43ad-b614-3c160109700a",
   "metadata": {},
   "source": [
    "<hr style=\"border: 1px solid rgba(50, 50, 255, 0.5); width: 100%;\">\n",
    "\n",
    "<pre style=\"background-color: #888888; padding: 10px; border-radius: 5px; font-family: monospace;\">\n",
    "    <span style=\"color: white;\">\n",
    "        1. Усердно поработали с библиотеками OpenCV и PIL.\n",
    "        2. Полюбовались красивыми виртуальными женщинами.\n",
    "    </span>\n",
    "</pre>\n",
    "\n",
    "<hr style=\"border: 1px solid rgba(50, 50, 255, 0.5); width: 100%;\">"
   ]
  }
 ],
 "metadata": {
  "kernelspec": {
   "display_name": "Python 3 (ipykernel)",
   "language": "python",
   "name": "python3"
  },
  "language_info": {
   "codemirror_mode": {
    "name": "ipython",
    "version": 3
   },
   "file_extension": ".py",
   "mimetype": "text/x-python",
   "name": "python",
   "nbconvert_exporter": "python",
   "pygments_lexer": "ipython3",
   "version": "3.9.16"
  }
 },
 "nbformat": 4,
 "nbformat_minor": 5
}
